{
 "cells": [
  {
   "cell_type": "code",
   "execution_count": 1,
   "metadata": {},
   "outputs": [],
   "source": [
    "import numpy as np\n",
    "from datagen import *\n",
    "from benchmarks import *"
   ]
  },
  {
   "cell_type": "code",
   "execution_count": 2,
   "metadata": {},
   "outputs": [],
   "source": [
    "i = 0\n",
    "\n",
    "# data path\n",
    "data_path = './save/simu_data/'\n",
    "\n",
    "# load the data\n",
    "data_full_path = data_path + 'd' + str(i) + '.npy'\n",
    "dat = np.load(data_full_path,allow_pickle=True)\n",
    "\n",
    "# unzip the data\n",
    "x = dat.item()['x']\n",
    "z = dat.item()['z']\n",
    "y1 = dat.item()['y1']\n",
    "y2 = dat.item()['y2']\n",
    "y3 = dat.item()['y3']"
   ]
  },
  {
   "cell_type": "code",
   "execution_count": 3,
   "metadata": {},
   "outputs": [],
   "source": [
    "y = y1.copy()"
   ]
  },
  {
   "cell_type": "code",
   "execution_count": 4,
   "metadata": {},
   "outputs": [],
   "source": [
    "def ipw1_wrapper(y,z,x):\n",
    "    # point estimation\n",
    "    glm_ps, ps_score = glm_wrapper(x,z)\n",
    "    tauhat = np.mean(z*y/ps_score)-np.mean((1-z)*y/(1-ps_score))\n",
    "\n",
    "    # the se calculation follows Lunceford and Davidian (2004)\n",
    "    H = np.mean((z*y*(1-ps_score)/ps_score-(1-z)*y*ps_score/(1-ps_score)).reshape(-1,1)*x,axis=0)\n",
    "    ww = ps_score*(1-ps_score)\n",
    "    E = np.matmul(x.T,ww.reshape(-1,1)*x)/x.shape[0]\n",
    "    HEinv = np.matmul(H.T,np.linalg.pinv(E))\n",
    "    xHEinv = np.matmul(x,HEinv)\n",
    "    se = np.sum((z*y/ps_score-(1-z)*y/(1-ps_score)-tauhat-(z-ps_score)*xHEinv)**2)/(x.shape[0]**2)\n",
    "\n",
    "    # confidence interval\n",
    "    qnorm = stats.qnorm(0.975).item()\n",
    "    lb = tauhat - qnorm*se\n",
    "    ub = tauhat + qnorm*se\n",
    "    \n",
    "    return tauhat, lb, ub"
   ]
  },
  {
   "cell_type": "code",
   "execution_count": 8,
   "metadata": {},
   "outputs": [],
   "source": [
    "# tau\n",
    "tau_ipw1 = [] \n",
    "for y in [y1,y2,y3]:\n",
    "    tau_ipw1.append(ipw1_wrapper(y,z,x))\n",
    "    \n",
    "df_ipw1 = pd.DataFrame(tau_ipw1,columns=['tauhat','95CI_lb','95CI_ub'])\n",
    "df_ipw1['method'] = 'IPW1'\n",
    "\n",
    "#df_ipw1.to_csv(save_folder+'ipw1.csv',index=False)"
   ]
  },
  {
   "cell_type": "code",
   "execution_count": 9,
   "metadata": {},
   "outputs": [
    {
     "data": {
      "text/html": [
       "<div>\n",
       "<style scoped>\n",
       "    .dataframe tbody tr th:only-of-type {\n",
       "        vertical-align: middle;\n",
       "    }\n",
       "\n",
       "    .dataframe tbody tr th {\n",
       "        vertical-align: top;\n",
       "    }\n",
       "\n",
       "    .dataframe thead th {\n",
       "        text-align: right;\n",
       "    }\n",
       "</style>\n",
       "<table border=\"1\" class=\"dataframe\">\n",
       "  <thead>\n",
       "    <tr style=\"text-align: right;\">\n",
       "      <th></th>\n",
       "      <th>tauhat</th>\n",
       "      <th>95CI_lb</th>\n",
       "      <th>95CI_ub</th>\n",
       "      <th>method</th>\n",
       "    </tr>\n",
       "  </thead>\n",
       "  <tbody>\n",
       "    <tr>\n",
       "      <td>0</td>\n",
       "      <td>0.699449</td>\n",
       "      <td>-0.146443</td>\n",
       "      <td>1.545340</td>\n",
       "      <td>IPW1</td>\n",
       "    </tr>\n",
       "    <tr>\n",
       "      <td>1</td>\n",
       "      <td>1.051727</td>\n",
       "      <td>-3.715475</td>\n",
       "      <td>5.818929</td>\n",
       "      <td>IPW1</td>\n",
       "    </tr>\n",
       "    <tr>\n",
       "      <td>2</td>\n",
       "      <td>3.150288</td>\n",
       "      <td>1.677431</td>\n",
       "      <td>4.623146</td>\n",
       "      <td>IPW1</td>\n",
       "    </tr>\n",
       "  </tbody>\n",
       "</table>\n",
       "</div>"
      ],
      "text/plain": [
       "     tauhat   95CI_lb   95CI_ub method\n",
       "0  0.699449 -0.146443  1.545340   IPW1\n",
       "1  1.051727 -3.715475  5.818929   IPW1\n",
       "2  3.150288  1.677431  4.623146   IPW1"
      ]
     },
     "execution_count": 9,
     "metadata": {},
     "output_type": "execute_result"
    }
   ],
   "source": [
    "df_ipw1"
   ]
  },
  {
   "cell_type": "code",
   "execution_count": null,
   "metadata": {},
   "outputs": [],
   "source": []
  },
  {
   "cell_type": "code",
   "execution_count": null,
   "metadata": {},
   "outputs": [],
   "source": []
  },
  {
   "cell_type": "code",
   "execution_count": null,
   "metadata": {},
   "outputs": [],
   "source": []
  }
 ],
 "metadata": {
  "kernelspec": {
   "display_name": "Python 3",
   "language": "python",
   "name": "python3"
  },
  "language_info": {
   "codemirror_mode": {
    "name": "ipython",
    "version": 3
   },
   "file_extension": ".py",
   "mimetype": "text/x-python",
   "name": "python",
   "nbconvert_exporter": "python",
   "pygments_lexer": "ipython3",
   "version": "3.7.4"
  },
  "toc": {
   "base_numbering": 1,
   "nav_menu": {},
   "number_sections": true,
   "sideBar": true,
   "skip_h1_title": false,
   "title_cell": "Table of Contents",
   "title_sidebar": "Contents",
   "toc_cell": false,
   "toc_position": {},
   "toc_section_display": true,
   "toc_window_display": false
  },
  "varInspector": {
   "cols": {
    "lenName": 16,
    "lenType": 16,
    "lenVar": 40
   },
   "kernels_config": {
    "python": {
     "delete_cmd_postfix": "",
     "delete_cmd_prefix": "del ",
     "library": "var_list.py",
     "varRefreshCmd": "print(var_dic_list())"
    },
    "r": {
     "delete_cmd_postfix": ") ",
     "delete_cmd_prefix": "rm(",
     "library": "var_list.r",
     "varRefreshCmd": "cat(var_dic_list()) "
    }
   },
   "types_to_exclude": [
    "module",
    "function",
    "builtin_function_or_method",
    "instance",
    "_Feature"
   ],
   "window_display": false
  }
 },
 "nbformat": 4,
 "nbformat_minor": 2
}
