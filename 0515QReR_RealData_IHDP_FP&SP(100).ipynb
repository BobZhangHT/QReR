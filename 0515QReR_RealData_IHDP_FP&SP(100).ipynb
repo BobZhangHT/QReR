{
 "cells": [
  {
   "cell_type": "code",
   "execution_count": 1,
   "metadata": {
    "executionInfo": {
     "elapsed": 875,
     "status": "ok",
     "timestamp": 1616592843940,
     "user": {
      "displayName": "Hengtao Zhang",
      "photoUrl": "",
      "userId": "09630016737102292563"
     },
     "user_tz": -480
    },
    "id": "EDum03vOL8qf"
   },
   "outputs": [],
   "source": [
    "import os\n",
    "import numpy as np\n",
    "import pandas as pd\n",
    "\n",
    "from network import *\n",
    "from datagen import *\n",
    "from benchmarks import *\n",
    "\n",
    "from sklearn.preprocessing import StandardScaler"
   ]
  },
  {
   "cell_type": "markdown",
   "metadata": {
    "id": "A2eFg-kYMtzh"
   },
   "source": [
    "# IHDP Data Preprocessing"
   ]
  },
  {
   "cell_type": "code",
   "execution_count": 2,
   "metadata": {},
   "outputs": [],
   "source": [
    "ihdp_train = np.load('./realdata/ihdp_npci_1-100.train.npz')\n",
    "ihdp_test = np.load('./realdata/ihdp_npci_1-100.test.npz')"
   ]
  },
  {
   "cell_type": "code",
   "execution_count": 3,
   "metadata": {},
   "outputs": [],
   "source": [
    "t_all = np.concatenate([ihdp_train['t'],ihdp_test['t']])\n",
    "x_all = np.concatenate([ihdp_train['x'],ihdp_test['x']])\n",
    "yf_all = np.concatenate([ihdp_train['yf'],ihdp_test['yf']])\n",
    "ycf_all = np.concatenate([ihdp_train['ycf'],ihdp_test['ycf']])\n",
    "mu1_all = np.concatenate([ihdp_train['mu1'],ihdp_test['mu1']])\n",
    "mu0_all = np.concatenate([ihdp_train['mu0'],ihdp_test['mu0']])"
   ]
  },
  {
   "cell_type": "code",
   "execution_count": 4,
   "metadata": {},
   "outputs": [
    {
     "data": {
      "text/plain": [
       "array([[ 0.31658816,  0.59658219, -0.36089799, ...,  0.        ,\n",
       "         0.        ,  0.        ],\n",
       "       [ 0.18689133,  0.19681812, -0.36089799, ...,  0.        ,\n",
       "         0.        ,  1.        ],\n",
       "       [ 0.53274953,  0.19681812, -0.36089799, ...,  0.        ,\n",
       "         0.        ,  0.        ],\n",
       "       ...,\n",
       "       [ 1.15961752,  0.99634625,  0.01146499, ...,  0.        ,\n",
       "         0.        ,  0.        ],\n",
       "       [-2.29896449, -1.40223813,  1.50091691, ...,  0.        ,\n",
       "         0.        ,  0.        ],\n",
       "       [ 1.50547572,  1.39611031, -0.36089799, ...,  0.        ,\n",
       "         0.        ,  0.        ]])"
      ]
     },
     "execution_count": 4,
     "metadata": {},
     "output_type": "execute_result"
    }
   ],
   "source": [
    "x_all[:,:,0]"
   ]
  },
  {
   "cell_type": "code",
   "execution_count": 5,
   "metadata": {},
   "outputs": [],
   "source": [
    "# #for i in range(100):\n",
    "# t_all_rfmt = []\n",
    "# x_all_rfmt = []\n",
    "# ycf_all_rfmt = []\n",
    "# yf_all_rfmt = []\n",
    "# mu1_all_rfmt = []\n",
    "# mu0_all_rfmt = []\n",
    "\n",
    "# x_structures = [('x'+str(i+1),float) for i in range(25)]\n",
    "# x_orders = ['x'+str(i+1) for i in range(25)]\n",
    "\n",
    "# for i in range(1):\n",
    "\n",
    "#     t_tmp = t_all[:,i]\n",
    "#     x_tmp = x_all[:,:,i]\n",
    "#     yf_tmp = yf_all[:,i]\n",
    "#     ycf_tmp = ycf_all[:,i]\n",
    "#     mu1_tmp = mu1_all[:,i]\n",
    "#     mu0_tmp = mu0_all[:,i]\n",
    "\n",
    "#     # covariates\n",
    "#     # put the data with t=1 at the beginning\n",
    "#     # sort the data within each treatment group\n",
    "#     x1_tmp = x_tmp[t_tmp==1,:]#np.array(x_tmp[t_tmp==1,:],dtype=x_structures)\n",
    "#     #x1_srt_idx = x1_tmp[:,0].argsort(order=x_orders)\n",
    "#     x1_srt_idx = np.array(x1_tmp,dtype=x_structures).argsort(order=x_orders)\n",
    "#     x1_tmp = argsort_multcols(x1_tmp,x1_srt_idx)\n",
    "#     #x1_tmp = x1_tmp[x1_srt_idx]\n",
    "\n",
    "#     x0_tmp = x_tmp[t_tmp==0,:]#np.array(x_tmp[t_tmp==0,:],dtype=x_structures)\n",
    "#     #x0_srt_idx = x0_tmp[:,0].argsort(order=x_orders)\n",
    "#     x0_srt_idx = np.array(x0_tmp,dtype=x_structures).argsort(order=x_orders)\n",
    "#     x0_tmp = argsort_multcols(x0_tmp,x0_srt_idx)\n",
    "#     #x0_tmp = x0_tmp[x0_srt_idx]\n",
    "\n",
    "#     x_tmp = np.concatenate([x1_tmp,x0_tmp])\n",
    "\n",
    "#     # response\n",
    "# #     yf_tmp = np.concatenate([yf_tmp[t_tmp==1][x1_srt_idx],yf_tmp[t_tmp==0][x0_srt_idx]])\n",
    "# #     ycf_tmp = np.concatenate([ycf_tmp[t_tmp==1][x1_srt_idx],ycf_tmp[t_tmp==0][x0_srt_idx]])\n",
    "#     yf_tmp = np.concatenate([argsort_multcols(yf_tmp[t_tmp==1],x1_srt_idx),\n",
    "#                              argsort_multcols(yf_tmp[t_tmp==0],x0_srt_idx)])\n",
    "#     ycf_tmp = np.concatenate([argsort_multcols(ycf_tmp[t_tmp==1],x1_srt_idx),\n",
    "#                              argsort_multcols(ycf_tmp[t_tmp==0],x0_srt_idx)])\n",
    "\n",
    "#     # mu\n",
    "# #     mu1_tmp = np.concatenate([mu1_tmp[t_tmp==1][x1_srt_idx],mu1_tmp[t_tmp==0][x0_srt_idx]])\n",
    "# #     mu0_tmp = np.concatenate([mu0_tmp[t_tmp==1][x1_srt_idx],mu0_tmp[t_tmp==0][x0_srt_idx]])\n",
    "#     mu1_tmp = np.concatenate([argsort_multcols(mu1_tmp[t_tmp==1],x1_srt_idx),\n",
    "#                              argsort_multcols(mu1_tmp[t_tmp==0],x0_srt_idx)])\n",
    "#     mu0_tmp = np.concatenate([argsort_multcols(mu0_tmp[t_tmp==1],x1_srt_idx),\n",
    "#                               argsort_multcols(mu0_tmp[t_tmp==0],x0_srt_idx)])\n",
    "\n",
    "#     # treatment effect\n",
    "#     t_tmp = np.concatenate([t_tmp[t_tmp==1],t_tmp[t_tmp==0]])\n",
    "    \n",
    "#     t_all_rfmt.append(t_tmp)\n",
    "#     x_all_rfmt.append(x_tmp)\n",
    "#     ycf_all_rfmt.append(ycf_tmp)\n",
    "#     yf_all_rfmt.append(yf_tmp)\n",
    "#     mu1_all_rfmt.append(mu1_tmp)\n",
    "#     mu0_all_rfmt.append(mu0_tmp)"
   ]
  },
  {
   "cell_type": "code",
   "execution_count": 6,
   "metadata": {},
   "outputs": [],
   "source": [
    "df_list = []\n",
    "\n",
    "for i in range(100):\n",
    "    t_tmp = t_all[:,i]\n",
    "    x_tmp = x_all[:,:,i]\n",
    "    yf_tmp = yf_all[:,i]\n",
    "    ycf_tmp = ycf_all[:,i]\n",
    "    mu1_tmp = mu1_all[:,i]\n",
    "    mu0_tmp = mu0_all[:,i]\n",
    "    \n",
    "    df_tmp = pd.DataFrame({'yf':yf_tmp,\n",
    "              'ycf':ycf_tmp,\n",
    "               't':t_tmp,\n",
    "               'mu1':mu1_tmp,\n",
    "               'mu0':mu0_tmp})\n",
    "    df_tmp = pd.concat([df_tmp,pd.DataFrame(x_tmp,columns=['x'+str(i+1) for i in range(25)])],axis=1)\n",
    "    df_tmp = df_tmp.sort_values(by=['t']+['x'+str(i+1) for i in range(25)],ascending=False).reset_index().iloc[:,1:]\n",
    "    \n",
    "    df_list.append(df_tmp)"
   ]
  },
  {
   "cell_type": "code",
   "execution_count": 7,
   "metadata": {},
   "outputs": [
    {
     "data": {
      "text/html": [
       "<div>\n",
       "<style scoped>\n",
       "    .dataframe tbody tr th:only-of-type {\n",
       "        vertical-align: middle;\n",
       "    }\n",
       "\n",
       "    .dataframe tbody tr th {\n",
       "        vertical-align: top;\n",
       "    }\n",
       "\n",
       "    .dataframe thead th {\n",
       "        text-align: right;\n",
       "    }\n",
       "</style>\n",
       "<table border=\"1\" class=\"dataframe\">\n",
       "  <thead>\n",
       "    <tr style=\"text-align: right;\">\n",
       "      <th></th>\n",
       "      <th>yf</th>\n",
       "      <th>ycf</th>\n",
       "      <th>t</th>\n",
       "      <th>mu1</th>\n",
       "      <th>mu0</th>\n",
       "      <th>x1</th>\n",
       "      <th>x2</th>\n",
       "      <th>x3</th>\n",
       "      <th>x4</th>\n",
       "      <th>x5</th>\n",
       "      <th>...</th>\n",
       "      <th>x16</th>\n",
       "      <th>x17</th>\n",
       "      <th>x18</th>\n",
       "      <th>x19</th>\n",
       "      <th>x20</th>\n",
       "      <th>x21</th>\n",
       "      <th>x22</th>\n",
       "      <th>x23</th>\n",
       "      <th>x24</th>\n",
       "      <th>x25</th>\n",
       "    </tr>\n",
       "  </thead>\n",
       "  <tbody>\n",
       "    <tr>\n",
       "      <td>0</td>\n",
       "      <td>7.417733</td>\n",
       "      <td>3.308214</td>\n",
       "      <td>1.0</td>\n",
       "      <td>6.424487</td>\n",
       "      <td>2.126094</td>\n",
       "      <td>1.505476</td>\n",
       "      <td>1.396110</td>\n",
       "      <td>-0.360898</td>\n",
       "      <td>0.161703</td>\n",
       "      <td>-0.504155</td>\n",
       "      <td>...</td>\n",
       "      <td>1.0</td>\n",
       "      <td>1.0</td>\n",
       "      <td>1.0</td>\n",
       "      <td>1.0</td>\n",
       "      <td>0.0</td>\n",
       "      <td>0.0</td>\n",
       "      <td>0.0</td>\n",
       "      <td>0.0</td>\n",
       "      <td>0.0</td>\n",
       "      <td>0.0</td>\n",
       "    </tr>\n",
       "    <tr>\n",
       "      <td>1</td>\n",
       "      <td>5.418291</td>\n",
       "      <td>4.082719</td>\n",
       "      <td>1.0</td>\n",
       "      <td>7.051587</td>\n",
       "      <td>3.980419</td>\n",
       "      <td>1.505476</td>\n",
       "      <td>0.596582</td>\n",
       "      <td>-1.105624</td>\n",
       "      <td>-0.879606</td>\n",
       "      <td>-1.566947</td>\n",
       "      <td>...</td>\n",
       "      <td>1.0</td>\n",
       "      <td>1.0</td>\n",
       "      <td>1.0</td>\n",
       "      <td>0.0</td>\n",
       "      <td>1.0</td>\n",
       "      <td>0.0</td>\n",
       "      <td>0.0</td>\n",
       "      <td>0.0</td>\n",
       "      <td>0.0</td>\n",
       "      <td>0.0</td>\n",
       "    </tr>\n",
       "    <tr>\n",
       "      <td>2</td>\n",
       "      <td>7.587765</td>\n",
       "      <td>1.037790</td>\n",
       "      <td>1.0</td>\n",
       "      <td>6.528618</td>\n",
       "      <td>2.359424</td>\n",
       "      <td>1.483860</td>\n",
       "      <td>1.396110</td>\n",
       "      <td>-0.360898</td>\n",
       "      <td>1.203011</td>\n",
       "      <td>-1.066810</td>\n",
       "      <td>...</td>\n",
       "      <td>1.0</td>\n",
       "      <td>1.0</td>\n",
       "      <td>1.0</td>\n",
       "      <td>0.0</td>\n",
       "      <td>0.0</td>\n",
       "      <td>0.0</td>\n",
       "      <td>0.0</td>\n",
       "      <td>0.0</td>\n",
       "      <td>0.0</td>\n",
       "      <td>0.0</td>\n",
       "    </tr>\n",
       "    <tr>\n",
       "      <td>3</td>\n",
       "      <td>6.115796</td>\n",
       "      <td>1.641820</td>\n",
       "      <td>1.0</td>\n",
       "      <td>6.658241</td>\n",
       "      <td>2.685966</td>\n",
       "      <td>1.462243</td>\n",
       "      <td>0.996346</td>\n",
       "      <td>0.011465</td>\n",
       "      <td>0.161703</td>\n",
       "      <td>-0.629189</td>\n",
       "      <td>...</td>\n",
       "      <td>1.0</td>\n",
       "      <td>1.0</td>\n",
       "      <td>1.0</td>\n",
       "      <td>0.0</td>\n",
       "      <td>0.0</td>\n",
       "      <td>0.0</td>\n",
       "      <td>0.0</td>\n",
       "      <td>0.0</td>\n",
       "      <td>0.0</td>\n",
       "      <td>0.0</td>\n",
       "    </tr>\n",
       "    <tr>\n",
       "      <td>4</td>\n",
       "      <td>7.342641</td>\n",
       "      <td>1.713163</td>\n",
       "      <td>1.0</td>\n",
       "      <td>6.523225</td>\n",
       "      <td>2.346736</td>\n",
       "      <td>1.440627</td>\n",
       "      <td>1.180165</td>\n",
       "      <td>-0.733261</td>\n",
       "      <td>0.161703</td>\n",
       "      <td>-0.066534</td>\n",
       "      <td>...</td>\n",
       "      <td>1.0</td>\n",
       "      <td>1.0</td>\n",
       "      <td>1.0</td>\n",
       "      <td>0.0</td>\n",
       "      <td>0.0</td>\n",
       "      <td>0.0</td>\n",
       "      <td>0.0</td>\n",
       "      <td>0.0</td>\n",
       "      <td>0.0</td>\n",
       "      <td>0.0</td>\n",
       "    </tr>\n",
       "    <tr>\n",
       "      <td>...</td>\n",
       "      <td>...</td>\n",
       "      <td>...</td>\n",
       "      <td>...</td>\n",
       "      <td>...</td>\n",
       "      <td>...</td>\n",
       "      <td>...</td>\n",
       "      <td>...</td>\n",
       "      <td>...</td>\n",
       "      <td>...</td>\n",
       "      <td>...</td>\n",
       "      <td>...</td>\n",
       "      <td>...</td>\n",
       "      <td>...</td>\n",
       "      <td>...</td>\n",
       "      <td>...</td>\n",
       "      <td>...</td>\n",
       "      <td>...</td>\n",
       "      <td>...</td>\n",
       "      <td>...</td>\n",
       "      <td>...</td>\n",
       "      <td>...</td>\n",
       "    </tr>\n",
       "    <tr>\n",
       "      <td>742</td>\n",
       "      <td>2.632686</td>\n",
       "      <td>7.226212</td>\n",
       "      <td>0.0</td>\n",
       "      <td>6.816572</td>\n",
       "      <td>3.146756</td>\n",
       "      <td>-2.298964</td>\n",
       "      <td>-1.402238</td>\n",
       "      <td>1.500917</td>\n",
       "      <td>-0.879606</td>\n",
       "      <td>-2.942326</td>\n",
       "      <td>...</td>\n",
       "      <td>1.0</td>\n",
       "      <td>0.0</td>\n",
       "      <td>1.0</td>\n",
       "      <td>0.0</td>\n",
       "      <td>0.0</td>\n",
       "      <td>1.0</td>\n",
       "      <td>0.0</td>\n",
       "      <td>0.0</td>\n",
       "      <td>0.0</td>\n",
       "      <td>0.0</td>\n",
       "    </tr>\n",
       "    <tr>\n",
       "      <td>743</td>\n",
       "      <td>-0.331502</td>\n",
       "      <td>6.692783</td>\n",
       "      <td>0.0</td>\n",
       "      <td>5.922879</td>\n",
       "      <td>1.287469</td>\n",
       "      <td>-2.298964</td>\n",
       "      <td>-2.601530</td>\n",
       "      <td>2.618006</td>\n",
       "      <td>-0.879606</td>\n",
       "      <td>-0.191569</td>\n",
       "      <td>...</td>\n",
       "      <td>1.0</td>\n",
       "      <td>0.0</td>\n",
       "      <td>1.0</td>\n",
       "      <td>0.0</td>\n",
       "      <td>0.0</td>\n",
       "      <td>0.0</td>\n",
       "      <td>0.0</td>\n",
       "      <td>1.0</td>\n",
       "      <td>0.0</td>\n",
       "      <td>0.0</td>\n",
       "    </tr>\n",
       "    <tr>\n",
       "      <td>744</td>\n",
       "      <td>-0.029618</td>\n",
       "      <td>6.949052</td>\n",
       "      <td>0.0</td>\n",
       "      <td>6.021617</td>\n",
       "      <td>1.421080</td>\n",
       "      <td>-2.320581</td>\n",
       "      <td>-3.001294</td>\n",
       "      <td>1.873280</td>\n",
       "      <td>-0.879606</td>\n",
       "      <td>-0.066534</td>\n",
       "      <td>...</td>\n",
       "      <td>1.0</td>\n",
       "      <td>1.0</td>\n",
       "      <td>1.0</td>\n",
       "      <td>1.0</td>\n",
       "      <td>0.0</td>\n",
       "      <td>0.0</td>\n",
       "      <td>0.0</td>\n",
       "      <td>0.0</td>\n",
       "      <td>0.0</td>\n",
       "      <td>0.0</td>\n",
       "    </tr>\n",
       "    <tr>\n",
       "      <td>745</td>\n",
       "      <td>2.223687</td>\n",
       "      <td>6.592375</td>\n",
       "      <td>0.0</td>\n",
       "      <td>6.916572</td>\n",
       "      <td>3.477703</td>\n",
       "      <td>-2.450277</td>\n",
       "      <td>-2.601530</td>\n",
       "      <td>2.618006</td>\n",
       "      <td>-0.879606</td>\n",
       "      <td>-0.566672</td>\n",
       "      <td>...</td>\n",
       "      <td>1.0</td>\n",
       "      <td>1.0</td>\n",
       "      <td>1.0</td>\n",
       "      <td>0.0</td>\n",
       "      <td>1.0</td>\n",
       "      <td>0.0</td>\n",
       "      <td>0.0</td>\n",
       "      <td>0.0</td>\n",
       "      <td>0.0</td>\n",
       "      <td>0.0</td>\n",
       "    </tr>\n",
       "    <tr>\n",
       "      <td>746</td>\n",
       "      <td>2.488205</td>\n",
       "      <td>7.639329</td>\n",
       "      <td>0.0</td>\n",
       "      <td>6.655718</td>\n",
       "      <td>2.679199</td>\n",
       "      <td>-2.731287</td>\n",
       "      <td>-3.800823</td>\n",
       "      <td>2.618006</td>\n",
       "      <td>0.161703</td>\n",
       "      <td>-0.941775</td>\n",
       "      <td>...</td>\n",
       "      <td>1.0</td>\n",
       "      <td>0.0</td>\n",
       "      <td>1.0</td>\n",
       "      <td>0.0</td>\n",
       "      <td>0.0</td>\n",
       "      <td>0.0</td>\n",
       "      <td>0.0</td>\n",
       "      <td>0.0</td>\n",
       "      <td>0.0</td>\n",
       "      <td>1.0</td>\n",
       "    </tr>\n",
       "  </tbody>\n",
       "</table>\n",
       "<p>747 rows × 30 columns</p>\n",
       "</div>"
      ],
      "text/plain": [
       "           yf       ycf    t       mu1       mu0        x1        x2  \\\n",
       "0    7.417733  3.308214  1.0  6.424487  2.126094  1.505476  1.396110   \n",
       "1    5.418291  4.082719  1.0  7.051587  3.980419  1.505476  0.596582   \n",
       "2    7.587765  1.037790  1.0  6.528618  2.359424  1.483860  1.396110   \n",
       "3    6.115796  1.641820  1.0  6.658241  2.685966  1.462243  0.996346   \n",
       "4    7.342641  1.713163  1.0  6.523225  2.346736  1.440627  1.180165   \n",
       "..        ...       ...  ...       ...       ...       ...       ...   \n",
       "742  2.632686  7.226212  0.0  6.816572  3.146756 -2.298964 -1.402238   \n",
       "743 -0.331502  6.692783  0.0  5.922879  1.287469 -2.298964 -2.601530   \n",
       "744 -0.029618  6.949052  0.0  6.021617  1.421080 -2.320581 -3.001294   \n",
       "745  2.223687  6.592375  0.0  6.916572  3.477703 -2.450277 -2.601530   \n",
       "746  2.488205  7.639329  0.0  6.655718  2.679199 -2.731287 -3.800823   \n",
       "\n",
       "           x3        x4        x5  ...  x16  x17  x18  x19  x20  x21  x22  \\\n",
       "0   -0.360898  0.161703 -0.504155  ...  1.0  1.0  1.0  1.0  0.0  0.0  0.0   \n",
       "1   -1.105624 -0.879606 -1.566947  ...  1.0  1.0  1.0  0.0  1.0  0.0  0.0   \n",
       "2   -0.360898  1.203011 -1.066810  ...  1.0  1.0  1.0  0.0  0.0  0.0  0.0   \n",
       "3    0.011465  0.161703 -0.629189  ...  1.0  1.0  1.0  0.0  0.0  0.0  0.0   \n",
       "4   -0.733261  0.161703 -0.066534  ...  1.0  1.0  1.0  0.0  0.0  0.0  0.0   \n",
       "..        ...       ...       ...  ...  ...  ...  ...  ...  ...  ...  ...   \n",
       "742  1.500917 -0.879606 -2.942326  ...  1.0  0.0  1.0  0.0  0.0  1.0  0.0   \n",
       "743  2.618006 -0.879606 -0.191569  ...  1.0  0.0  1.0  0.0  0.0  0.0  0.0   \n",
       "744  1.873280 -0.879606 -0.066534  ...  1.0  1.0  1.0  1.0  0.0  0.0  0.0   \n",
       "745  2.618006 -0.879606 -0.566672  ...  1.0  1.0  1.0  0.0  1.0  0.0  0.0   \n",
       "746  2.618006  0.161703 -0.941775  ...  1.0  0.0  1.0  0.0  0.0  0.0  0.0   \n",
       "\n",
       "     x23  x24  x25  \n",
       "0    0.0  0.0  0.0  \n",
       "1    0.0  0.0  0.0  \n",
       "2    0.0  0.0  0.0  \n",
       "3    0.0  0.0  0.0  \n",
       "4    0.0  0.0  0.0  \n",
       "..   ...  ...  ...  \n",
       "742  0.0  0.0  0.0  \n",
       "743  1.0  0.0  0.0  \n",
       "744  0.0  0.0  0.0  \n",
       "745  0.0  0.0  0.0  \n",
       "746  0.0  0.0  1.0  \n",
       "\n",
       "[747 rows x 30 columns]"
      ]
     },
     "execution_count": 7,
     "metadata": {},
     "output_type": "execute_result"
    }
   ],
   "source": [
    "# each data has the same covariate matrix\n",
    "df_list[0]"
   ]
  },
  {
   "cell_type": "code",
   "execution_count": 8,
   "metadata": {},
   "outputs": [
    {
     "data": {
      "text/plain": [
       "array([ 4.0160669 ,  4.05083876,  4.09916365,  4.27367846,  4.16243971,\n",
       "        4.00396759,  3.99054949,  3.85365336, 10.46603732,  4.58600055,\n",
       "        3.94778503,  4.1613483 , 12.64884216,  3.8613001 ,  3.90758194,\n",
       "        4.53275184,  3.63698227,  3.76876196,  3.94114814,  4.23595093,\n",
       "        3.15515811,  4.08726989,  4.31251024,  3.83549159,  4.59564375,\n",
       "        4.41282505,  3.75550896, 10.46998875,  3.74505892,  4.38459298,\n",
       "        4.33557326,  4.02288688,  4.15662861,  6.7894158 ,  3.7555015 ,\n",
       "        4.88172673,  3.34338542,  4.04272787,  6.22115672,  4.39037267,\n",
       "        4.22977055,  3.99375985,  4.49926047,  3.78143844,  3.29871699,\n",
       "        4.82676006,  5.06641275,  3.84177868,  4.39537517,  3.90474955,\n",
       "        4.30611986,  4.35061133,  5.79139376,  4.43184788,  3.74027243,\n",
       "        4.03143058,  4.08542008,  4.52415555,  4.24202854,  4.01454034,\n",
       "        4.0824372 ,  3.90064499,  4.4801819 ,  3.26208988,  4.17656545,\n",
       "        4.19809786,  4.05086746,  9.51251427,  3.81390578,  4.01869777,\n",
       "        5.85679824,  3.99842166,  3.83782644,  3.99688057,  3.99641456,\n",
       "        5.15947845,  4.14653143,  4.01784128,  4.19567251,  3.97060623,\n",
       "        9.5240103 ,  2.9724112 ,  4.15245909,  2.5540893 , -0.60395262,\n",
       "        5.88822313,  4.91248007,  3.98251118,  3.94606772,  3.94500523,\n",
       "        3.91715581,  3.56984624,  8.45612969,  4.23866947,  3.85016476,\n",
       "        4.08661671,  4.35453823,  6.80580684,  4.13359026,  4.03165506])"
      ]
     },
     "execution_count": 8,
     "metadata": {},
     "output_type": "execute_result"
    }
   ],
   "source": [
    "pate_all = np.array([(df_list[i]['mu1']-df_list[i]['mu0']).mean() for i in range(100)])\n",
    "pate_all"
   ]
  },
  {
   "cell_type": "code",
   "execution_count": 9,
   "metadata": {},
   "outputs": [
    {
     "data": {
      "text/plain": [
       "array([ 4.02966123,  4.02898532,  4.09888713,  4.23099487,  4.19981939,\n",
       "        4.06253782,  3.89391459,  3.83217576, 10.46049063,  4.6403174 ,\n",
       "        3.837335  ,  4.19578813, 12.65313775,  3.84405153,  3.92914758,\n",
       "        4.56482815,  3.67911552,  3.71256371,  3.93979866,  4.18333182,\n",
       "        3.11784075,  4.08229558,  4.29974798,  3.79369694,  4.60383819,\n",
       "        4.40484877,  3.84973831, 10.41854684,  3.74427854,  4.3347969 ,\n",
       "        4.3581814 ,  3.95451255,  4.19795704,  6.76501459,  3.73662204,\n",
       "        4.87904621,  3.39072491,  4.03782456,  6.21645365,  4.35271359,\n",
       "        4.22963446,  3.96156536,  4.45465421,  3.78397001,  3.39382906,\n",
       "        4.88259799,  5.06750504,  3.86656752,  4.32386045,  3.82434432,\n",
       "        4.30253411,  4.32505147,  5.84292417,  4.37766545,  3.72607198,\n",
       "        4.02274265,  4.12593559,  4.45352045,  4.21034079,  3.9858225 ,\n",
       "        4.04971939,  3.83449406,  4.39945445,  3.25703931,  4.17448581,\n",
       "        4.2167883 ,  4.04126266,  9.52162592,  3.7538593 ,  4.03801746,\n",
       "        5.92577617,  3.9743937 ,  3.85456186,  4.02637946,  3.97966429,\n",
       "        5.18429354,  4.23688079,  4.09823097,  4.13913601,  4.03581713,\n",
       "        9.60529348,  3.00910748,  4.12286496,  2.56351135, -0.6681374 ,\n",
       "        5.95111088,  4.91973796,  3.96466692,  4.01526693,  3.9142669 ,\n",
       "        3.83802991,  3.52464913,  8.42269884,  4.27170054,  3.8660194 ,\n",
       "        4.08391574,  4.28970935,  6.80910982,  4.17726933,  3.95510886])"
      ]
     },
     "execution_count": 9,
     "metadata": {},
     "output_type": "execute_result"
    }
   ],
   "source": [
    "sate_all = np.array([((2*df_list[i]['t']-1)*(df_list[i]['yf']-df_list[i]['ycf'])).mean() for i in range(100)])\n",
    "sate_all"
   ]
  },
  {
   "cell_type": "code",
   "execution_count": 10,
   "metadata": {},
   "outputs": [
    {
     "data": {
      "text/plain": [
       "array([ 4.02112101,  4.08142133,  4.1941568 ,  4.27150087,  4.22922532,\n",
       "        4.13139047,  3.83973255,  3.65694855, 12.09923626,  4.89704053,\n",
       "        3.98631395,  4.26235925, 14.79721728,  3.76151029,  4.08423736,\n",
       "        4.91534784,  3.6309097 ,  3.54818409,  3.98531946,  4.33549602,\n",
       "        2.80774928,  4.17697625,  4.4518522 ,  3.7171733 ,  5.02607171,\n",
       "        4.53131527,  3.76706013, 12.06453901,  3.65404239,  4.54057583,\n",
       "        4.50511212,  4.06472386,  4.28188938,  7.59958137,  3.4963201 ,\n",
       "        5.23774916,  3.08936758,  4.13160761,  6.8300518 ,  4.5584304 ,\n",
       "        4.43507594,  4.016395  ,  4.79190652,  3.87754329,  3.14960206,\n",
       "        5.12479685,  5.44131418,  3.70707431,  4.55828352,  3.78185346,\n",
       "        4.60492791,  4.26844834,  6.41228001,  4.64758311,  3.49049284,\n",
       "        3.99832891,  4.33486629,  4.56830003,  4.47303724,  3.91472164,\n",
       "        4.15926255,  3.82523735,  4.74926135,  2.98351423,  4.25061735,\n",
       "        4.33756029,  4.1220788 , 10.77606464,  3.54755058,  4.0139887 ,\n",
       "        6.61606898,  3.95637258,  3.70424163,  3.97672759,  4.0360612 ,\n",
       "        5.52267295,  4.13993666,  4.17698059,  4.41071174,  4.05831031,\n",
       "       11.08987201,  2.55911671,  3.98768568,  2.15980239, -1.88773014,\n",
       "        6.46862215,  5.21426844,  3.8350507 ,  3.9761361 ,  3.83124213,\n",
       "        3.59781172,  3.31065888,  9.73095663,  4.35943306,  3.82627417,\n",
       "        4.10815338,  4.60629964,  7.61365891,  4.15018046,  3.84829549])"
      ]
     },
     "execution_count": 10,
     "metadata": {},
     "output_type": "execute_result"
    }
   ],
   "source": [
    "# raw difference\n",
    "ydiff_all = np.array([df_list[i]['yf'][df_list[i]['t']==1].mean()- \\\n",
    "                      df_list[i]['yf'][df_list[i]['t']==0].mean() for i in range(100)])\n",
    "ydiff_all"
   ]
  },
  {
   "cell_type": "code",
   "execution_count": 11,
   "metadata": {},
   "outputs": [],
   "source": [
    "# absolute bias between the raw difference and the pate\n",
    "abs_bias_all = np.abs(ydiff_all-pate_all)"
   ]
  },
  {
   "cell_type": "code",
   "execution_count": 12,
   "metadata": {},
   "outputs": [
    {
     "data": {
      "text/plain": [
       "12"
      ]
     },
     "execution_count": 12,
     "metadata": {},
     "output_type": "execute_result"
    }
   ],
   "source": [
    "sel_idx = abs_bias_all.argmax()\n",
    "sel_idx"
   ]
  },
  {
   "cell_type": "markdown",
   "metadata": {},
   "source": [
    "# $\\tau_{\\rm SATE}$ : QReR and ReR"
   ]
  },
  {
   "cell_type": "markdown",
   "metadata": {},
   "source": [
    "## Extract the common covariate matrix"
   ]
  },
  {
   "cell_type": "code",
   "execution_count": 13,
   "metadata": {},
   "outputs": [],
   "source": [
    "from sklearn.preprocessing import StandardScaler\n",
    "\n",
    "x = df_list[0][['x'+str(i+1) for i in range(25)]].values\n",
    "sc = StandardScaler()\n",
    "x = sc.fit_transform(x)\n",
    "z = df_list[0]['t'].values"
   ]
  },
  {
   "cell_type": "code",
   "execution_count": 14,
   "metadata": {},
   "outputs": [],
   "source": [
    "# save folder root \n",
    "save_folder_root = './save/0518real_ihdp100/'\n",
    "seed = 2021"
   ]
  },
  {
   "cell_type": "markdown",
   "metadata": {},
   "source": [
    "## ReR"
   ]
  },
  {
   "cell_type": "code",
   "execution_count": 15,
   "metadata": {},
   "outputs": [],
   "source": [
    "def y_rer_gen(y1,y0,z_rer):\n",
    "    return y1*z_rer + y0*(1-z_rer)"
   ]
  },
  {
   "cell_type": "code",
   "execution_count": 16,
   "metadata": {},
   "outputs": [],
   "source": [
    "# folder of rer\n",
    "save_folder_rer = save_folder_root + 'rer/'\n",
    "if not os.path.exists(save_folder_rer):\n",
    "        print('Creat the folder for ReR.')\n",
    "        os.makedirs(save_folder_rer)"
   ]
  },
  {
   "cell_type": "code",
   "execution_count": 17,
   "metadata": {},
   "outputs": [],
   "source": [
    "rer_df_list = []\n",
    "\n",
    "for pa in [0.1,0.5,1]:\n",
    "    # generate rer_mat for different acceptance probability\n",
    "    if not os.path.exists(save_folder_rer+'zmat_pa'+str(pa*10)+'.npy'):\n",
    "        np.random.seed(seed)\n",
    "        torch.manual_seed(seed)\n",
    "        z_rer_mat = np.array([ReR(pa,torch.Tensor(x),np.sum(z))[0].numpy() for i in tqdm(range(1000))])\n",
    "        np.save(save_folder_rer+'zmat_pa'+str(pa*10)+'.npy',\n",
    "                z_rer_mat)\n",
    "    else:\n",
    "        z_rer_mat = np.load(save_folder_rer+'zmat_pa'+str(pa*10)+'.npy')\n",
    "        \n",
    "    # conduct rer on each dataset\n",
    "    np.random.seed(seed)\n",
    "    torch.manual_seed(seed)\n",
    "\n",
    "    sate_rer_array = []\n",
    "    for i in range(100):\n",
    "\n",
    "        yf = df_list[i]['yf'].values\n",
    "        ycf = df_list[i]['ycf'].values\n",
    "        y1 = yf*z + ycf*(1-z)\n",
    "        y0 = yf*(1-z) + ycf*(z)\n",
    "\n",
    "        z_rer = ReR(pa,torch.Tensor(x),np.sum(z))[0].numpy()\n",
    "        y_rer = y_rer_gen(y1,y0,z_rer)\n",
    "\n",
    "        sate_rer = tau_diff(y_rer,z_rer)\n",
    "        sate_rer_array.append(sate_rer)\n",
    "\n",
    "    sate_rer_array = np.array(sate_rer_array)\n",
    "    bias_rer = np.mean(sate_rer_array-sate_all)\n",
    "    rmse_rer = np.sqrt(np.mean((sate_rer_array-sate_all)**2))\n",
    "    \n",
    "    rer_df = pd.DataFrame({'method':['ReR'],\n",
    "                           'pa':[pa],\n",
    "                           'bias':[bias_rer],\n",
    "                           'rmse':[rmse_rer]})\n",
    "    rer_df_list.append(rer_df)"
   ]
  },
  {
   "cell_type": "code",
   "execution_count": 18,
   "metadata": {},
   "outputs": [
    {
     "data": {
      "text/html": [
       "<div>\n",
       "<style scoped>\n",
       "    .dataframe tbody tr th:only-of-type {\n",
       "        vertical-align: middle;\n",
       "    }\n",
       "\n",
       "    .dataframe tbody tr th {\n",
       "        vertical-align: top;\n",
       "    }\n",
       "\n",
       "    .dataframe thead th {\n",
       "        text-align: right;\n",
       "    }\n",
       "</style>\n",
       "<table border=\"1\" class=\"dataframe\">\n",
       "  <thead>\n",
       "    <tr style=\"text-align: right;\">\n",
       "      <th></th>\n",
       "      <th>method</th>\n",
       "      <th>pa</th>\n",
       "      <th>bias</th>\n",
       "      <th>rmse</th>\n",
       "    </tr>\n",
       "  </thead>\n",
       "  <tbody>\n",
       "    <tr>\n",
       "      <td>0</td>\n",
       "      <td>ReR</td>\n",
       "      <td>0.1</td>\n",
       "      <td>-0.010935</td>\n",
       "      <td>0.127269</td>\n",
       "    </tr>\n",
       "    <tr>\n",
       "      <td>0</td>\n",
       "      <td>ReR</td>\n",
       "      <td>0.5</td>\n",
       "      <td>0.016529</td>\n",
       "      <td>0.166550</td>\n",
       "    </tr>\n",
       "    <tr>\n",
       "      <td>0</td>\n",
       "      <td>ReR</td>\n",
       "      <td>1.0</td>\n",
       "      <td>0.020951</td>\n",
       "      <td>0.276938</td>\n",
       "    </tr>\n",
       "  </tbody>\n",
       "</table>\n",
       "</div>"
      ],
      "text/plain": [
       "  method   pa      bias      rmse\n",
       "0    ReR  0.1 -0.010935  0.127269\n",
       "0    ReR  0.5  0.016529  0.166550\n",
       "0    ReR  1.0  0.020951  0.276938"
      ]
     },
     "execution_count": 18,
     "metadata": {},
     "output_type": "execute_result"
    }
   ],
   "source": [
    "rer_df_all = pd.concat(rer_df_list)\n",
    "rer_df_all"
   ]
  },
  {
   "cell_type": "markdown",
   "metadata": {},
   "source": [
    "## QReR"
   ]
  },
  {
   "cell_type": "code",
   "execution_count": 19,
   "metadata": {},
   "outputs": [],
   "source": [
    "def allocation_test(mdist_obs,mdist_array):\n",
    "    return (np.sum(mdist_array>=mdist_obs)+1)/(mdist_array.shape[0]+1)"
   ]
  },
  {
   "cell_type": "code",
   "execution_count": 20,
   "metadata": {
    "executionInfo": {
     "elapsed": 898,
     "status": "ok",
     "timestamp": 1616591903618,
     "user": {
      "displayName": "Hengtao Zhang",
      "photoUrl": "",
      "userId": "09630016737102292563"
     },
     "user_tz": -480
    },
    "id": "JeabGRx7N9SU"
   },
   "outputs": [],
   "source": [
    "batch_size = 512\n",
    "lr = 1e-3#1e-3#5e-4\n",
    "pa = 0.1#1#0.1#np.inf\n",
    "init_method = 'normal'\n",
    "val_metric = 'KS'#'KS'#'Loss'\n",
    "x_lambda = 0.01\n",
    "wt_lambda = 1\n",
    "num_nodes = 512\n",
    "num_iters = 5000\n",
    "num_noval_iters = 0\n",
    "num_init_iters = 500\n",
    "patience = 10\n",
    "rer_type = 'unequal'\n",
    "save_folder = './save/'\n",
    "random_state = 0\n",
    "kernel_params = {'kernel':'rbf',\n",
    "                 'gamma':10, \n",
    "                 'degree':2,\n",
    "                 'c':1}"
   ]
  },
  {
   "cell_type": "code",
   "execution_count": 21,
   "metadata": {
    "executionInfo": {
     "elapsed": 1025,
     "status": "ok",
     "timestamp": 1616591904058,
     "user": {
      "displayName": "Hengtao Zhang",
      "photoUrl": "",
      "userId": "09630016737102292563"
     },
     "user_tz": -480
    },
    "id": "TEOsY34BODOE",
    "scrolled": true
   },
   "outputs": [
    {
     "name": "stderr",
     "output_type": "stream",
     "text": [
      "\r",
      "  0%|          | 0/1 [00:00<?, ?it/s]"
     ]
    },
    {
     "name": "stdout",
     "output_type": "stream",
     "text": [
      "Skip! The model has been trained.\n",
      "Initialize the network via pretraining.\n"
     ]
    },
    {
     "name": "stderr",
     "output_type": "stream",
     "text": [
      "100%|██████████| 1/1 [00:00<00:00,  1.43it/s]\n"
     ]
    },
    {
     "name": "stdout",
     "output_type": "stream",
     "text": [
      "Pretraining complete!\n"
     ]
    },
    {
     "name": "stderr",
     "output_type": "stream",
     "text": [
      "100%|██████████| 100/100 [00:00<00:00, 1260.28it/s]\n",
      "  0%|          | 0/1 [00:00<?, ?it/s]"
     ]
    },
    {
     "name": "stdout",
     "output_type": "stream",
     "text": [
      "Skip! The model has been trained.\n",
      "Initialize the network via pretraining.\n"
     ]
    },
    {
     "name": "stderr",
     "output_type": "stream",
     "text": [
      "100%|██████████| 1/1 [00:00<00:00,  1.45it/s]\n"
     ]
    },
    {
     "name": "stdout",
     "output_type": "stream",
     "text": [
      "Pretraining complete!\n"
     ]
    },
    {
     "name": "stderr",
     "output_type": "stream",
     "text": [
      "100%|██████████| 100/100 [00:00<00:00, 1284.71it/s]\n",
      "  0%|          | 0/1 [00:00<?, ?it/s]"
     ]
    },
    {
     "name": "stdout",
     "output_type": "stream",
     "text": [
      "Skip! The model has been trained.\n",
      "Initialize the network via pretraining.\n"
     ]
    },
    {
     "name": "stderr",
     "output_type": "stream",
     "text": [
      "100%|██████████| 1/1 [00:00<00:00,  1.45it/s]\n"
     ]
    },
    {
     "name": "stdout",
     "output_type": "stream",
     "text": [
      "Pretraining complete!\n"
     ]
    },
    {
     "name": "stderr",
     "output_type": "stream",
     "text": [
      "100%|██████████| 100/100 [00:00<00:00, 1668.39it/s]\n"
     ]
    }
   ],
   "source": [
    "qrer_df_list = []\n",
    "\n",
    "for pa in [0.1,0.5,1]:\n",
    "    batch_size = 512\n",
    "    lr = 1e-3#1e-3#5e-4\n",
    "    init_method = 'normal'\n",
    "    val_metric = 'KS'#'KS'#'Loss'\n",
    "    x_lambda = 1\n",
    "    wt_lambda = 1\n",
    "    num_nodes = 512\n",
    "    num_iters = 5000\n",
    "    num_noval_iters = 0#1000\n",
    "    num_init_iters = 500\n",
    "    patience = 15\n",
    "    save_folder = './save/'\n",
    "    random_state = 0\n",
    "    kernel_params = {'kernel':'rbf',\n",
    "                     'gamma':10, \n",
    "                     'degree':2,\n",
    "                     'c':1}\n",
    "    \n",
    "    x = df_list[0][['x'+str(i+1) for i in range(25)]].values\n",
    "    sc = StandardScaler()\n",
    "    x = sc.fit_transform(x)\n",
    "    z = df_list[0]['t'].values\n",
    "\n",
    "    save_folder_qrer = save_folder_root + 'qrer/pa='+str(pa)+'/'\n",
    "    if not os.path.exists(save_folder_qrer):\n",
    "        print('Creat the folder for QReR.')\n",
    "        os.makedirs(save_folder_qrer)\n",
    "\n",
    "    if not os.path.exists(save_folder_qrer +'final_checkpoint.pt'):\n",
    "        print('Train the model from scratch.')\n",
    "\n",
    "        estimator = QRWG(lr=lr,\n",
    "                         batch_size=batch_size,\n",
    "                         patience=patience,\n",
    "                         num_iters=num_iters,\n",
    "                         num_init_iters=num_init_iters,\n",
    "                         num_noval_iters=num_noval_iters,\n",
    "                         pa=pa,\n",
    "                         x_lambda=x_lambda,\n",
    "                         wt_lambda=wt_lambda,\n",
    "                         num_nodes=num_nodes,\n",
    "                         save_folder=save_folder_qrer,\n",
    "                         val_metric=val_metric,\n",
    "                         verbose=True,\n",
    "                         kernel_params=kernel_params,\n",
    "                         random_state=random_state)\n",
    "    \n",
    "        estimator.fit(x,z)\n",
    "    else:\n",
    "        print('Skip! The model has been trained.')\n",
    "        estimator = QRWG(lr=lr,\n",
    "                          batch_size=batch_size,\n",
    "                          patience=patience,\n",
    "                          num_iters=num_iters,\n",
    "                          num_init_iters=1,\n",
    "                          pa=pa,\n",
    "                         x_lambda=x_lambda,\n",
    "                         wt_lambda=wt_lambda,\n",
    "                          num_nodes=num_nodes,\n",
    "                          val_metric=val_metric,\n",
    "                          save_folder=save_folder_qrer,\n",
    "                          kernel_params=kernel_params,\n",
    "                          verbose=False,\n",
    "                          random_state=random_state)\n",
    "        estimator.w = z\n",
    "        estimator.nwts = int(estimator.w.shape[0])\n",
    "        estimator.nt = int(z.sum())\n",
    "        estimator.nc = int((1-z).sum())\n",
    "        estimator._init_network()\n",
    "        estimator.netG.load_state_dict(torch.load(save_folder_qrer+'final_checkpoint.pt'))\n",
    "        \n",
    "    # inference\n",
    "\n",
    "    np.random.seed(seed)\n",
    "    torch.manual_seed(seed)\n",
    "\n",
    "    if not os.path.exists(save_folder_rer+'mdist_pa'+str(pa*10)+'.npy'):\n",
    "        mdist_array = np.array([ReR(pa,torch.Tensor(x),np.sum(z))[1].item() for i in tqdm(range(1000))])\n",
    "        np.save(save_folder_rer+'mdist_pa'+str(pa*10)+'.npy',\n",
    "            mdist_array)\n",
    "    else:\n",
    "        mdist_array = np.load(save_folder_rer+'mdist_pa'+str(pa*10)+'.npy')\n",
    "\n",
    "    wts_mat_net = estimator.predict(1000).numpy()\n",
    "    test_array = np.array([allocation_test(maha_dist(x,z,wts_mat_net[i]).item(),mdist_array) for i in range(1000)])\n",
    "    \n",
    "    \n",
    "    try:\n",
    "        wts3 = wts_mat_net[np.cumsum(test_array>0.15)==1][0]\n",
    "    except:\n",
    "        wts_mat_net_tmp = estimator.predict(1000).numpy()\n",
    "        test_array_tmp = np.array([allocation_test(maha_dist(x,z,wts_mat_net_tmp[i]).item(),\n",
    "                                                   mdist_array) for i in range(1000)])\n",
    "        while np.mean(test_array_tmp>0.15)==0:\n",
    "            wts_mat_net_tmp = estimator.predict(1000).numpy()\n",
    "            test_array_tmp = np.array([allocation_test(maha_dist(x,z,wts_mat_net_tmp[i]).item(),\n",
    "                                                       mdist_array) for i in range(1000)])\n",
    "        wts3 = wts_mat_net_tmp[np.cumsum(test_array_tmp>0.15)==1][0]\n",
    "    \n",
    "\n",
    "    sate_qrer_s1_array = []\n",
    "    sate_qrer_s2_array = []\n",
    "    sate_qrer_s3_array = []\n",
    "\n",
    "    for i in tqdm(range(100)):\n",
    "\n",
    "        yf = df_list[i]['yf'].values\n",
    "        ycf = df_list[i]['ycf'].values\n",
    "        y1 = yf*z + ycf*(1-z)\n",
    "        y0 = yf*(1-z) + ycf*(z)\n",
    "\n",
    "        wts = wts_mat_net[0]\n",
    "        sate_qrer_s1 = tau_diff(yf,z,wts)\n",
    "        sate_qrer_s1_array.append(sate_qrer_s1)\n",
    "\n",
    "        avg_wts = wts_mat_net.mean(axis=0)\n",
    "        sate_qrer_s2 = tau_diff(yf,z,avg_wts)\n",
    "        sate_qrer_s2_array.append(sate_qrer_s2)\n",
    "\n",
    "        sate_qrer_s3 = tau_diff(yf,z,wts3)\n",
    "        sate_qrer_s3_array.append(sate_qrer_s3)\n",
    "\n",
    "    sate_qrer_s1_array = np.array(sate_qrer_s1_array)\n",
    "    sate_qrer_s2_array = np.array(sate_qrer_s2_array)\n",
    "    sate_qrer_s3_array = np.array(sate_qrer_s3_array)\n",
    "\n",
    "    bias_qrer_s1 = np.mean(sate_qrer_s1_array-sate_all)\n",
    "    rmse_qrer_s1 = np.sqrt(np.mean((sate_qrer_s1_array-sate_all)**2))\n",
    "\n",
    "    bias_qrer_s2 = np.mean(sate_qrer_s2_array-sate_all)\n",
    "    rmse_qrer_s2 = np.sqrt(np.mean((sate_qrer_s2_array-sate_all)**2))\n",
    "\n",
    "    bias_qrer_s3 = np.mean(sate_qrer_s3_array-sate_all)\n",
    "    rmse_qrer_s3 = np.sqrt(np.mean((sate_qrer_s3_array-sate_all)**2))\n",
    "\n",
    "    qrer_df = pd.DataFrame({'method':['QReR-S1','QReR-S2','QReR-S3'],\n",
    "                       'pa':[pa,pa,pa],\n",
    "                       'bias':[bias_qrer_s1,bias_qrer_s2,bias_qrer_s3],\n",
    "                       'rmse':[rmse_qrer_s1,rmse_qrer_s2,rmse_qrer_s3]})\n",
    "    qrer_df_list.append(qrer_df)"
   ]
  },
  {
   "cell_type": "code",
   "execution_count": 22,
   "metadata": {},
   "outputs": [
    {
     "data": {
      "text/html": [
       "<div>\n",
       "<style scoped>\n",
       "    .dataframe tbody tr th:only-of-type {\n",
       "        vertical-align: middle;\n",
       "    }\n",
       "\n",
       "    .dataframe tbody tr th {\n",
       "        vertical-align: top;\n",
       "    }\n",
       "\n",
       "    .dataframe thead th {\n",
       "        text-align: right;\n",
       "    }\n",
       "</style>\n",
       "<table border=\"1\" class=\"dataframe\">\n",
       "  <thead>\n",
       "    <tr style=\"text-align: right;\">\n",
       "      <th></th>\n",
       "      <th>method</th>\n",
       "      <th>pa</th>\n",
       "      <th>bias</th>\n",
       "      <th>rmse</th>\n",
       "    </tr>\n",
       "  </thead>\n",
       "  <tbody>\n",
       "    <tr>\n",
       "      <td>0</td>\n",
       "      <td>QReR-S1</td>\n",
       "      <td>0.1</td>\n",
       "      <td>-0.005185</td>\n",
       "      <td>0.230776</td>\n",
       "    </tr>\n",
       "    <tr>\n",
       "      <td>1</td>\n",
       "      <td>QReR-S2</td>\n",
       "      <td>0.1</td>\n",
       "      <td>-0.019333</td>\n",
       "      <td>0.177289</td>\n",
       "    </tr>\n",
       "    <tr>\n",
       "      <td>2</td>\n",
       "      <td>QReR-S3</td>\n",
       "      <td>0.1</td>\n",
       "      <td>-0.005185</td>\n",
       "      <td>0.230776</td>\n",
       "    </tr>\n",
       "    <tr>\n",
       "      <td>0</td>\n",
       "      <td>QReR-S1</td>\n",
       "      <td>0.5</td>\n",
       "      <td>0.152681</td>\n",
       "      <td>0.380447</td>\n",
       "    </tr>\n",
       "    <tr>\n",
       "      <td>1</td>\n",
       "      <td>QReR-S2</td>\n",
       "      <td>0.5</td>\n",
       "      <td>-0.028233</td>\n",
       "      <td>0.189485</td>\n",
       "    </tr>\n",
       "    <tr>\n",
       "      <td>2</td>\n",
       "      <td>QReR-S3</td>\n",
       "      <td>0.5</td>\n",
       "      <td>0.152681</td>\n",
       "      <td>0.380447</td>\n",
       "    </tr>\n",
       "    <tr>\n",
       "      <td>0</td>\n",
       "      <td>QReR-S1</td>\n",
       "      <td>1.0</td>\n",
       "      <td>0.058779</td>\n",
       "      <td>0.409200</td>\n",
       "    </tr>\n",
       "    <tr>\n",
       "      <td>1</td>\n",
       "      <td>QReR-S2</td>\n",
       "      <td>1.0</td>\n",
       "      <td>-0.033584</td>\n",
       "      <td>0.181615</td>\n",
       "    </tr>\n",
       "    <tr>\n",
       "      <td>2</td>\n",
       "      <td>QReR-S3</td>\n",
       "      <td>1.0</td>\n",
       "      <td>0.058779</td>\n",
       "      <td>0.409200</td>\n",
       "    </tr>\n",
       "  </tbody>\n",
       "</table>\n",
       "</div>"
      ],
      "text/plain": [
       "    method   pa      bias      rmse\n",
       "0  QReR-S1  0.1 -0.005185  0.230776\n",
       "1  QReR-S2  0.1 -0.019333  0.177289\n",
       "2  QReR-S3  0.1 -0.005185  0.230776\n",
       "0  QReR-S1  0.5  0.152681  0.380447\n",
       "1  QReR-S2  0.5 -0.028233  0.189485\n",
       "2  QReR-S3  0.5  0.152681  0.380447\n",
       "0  QReR-S1  1.0  0.058779  0.409200\n",
       "1  QReR-S2  1.0 -0.033584  0.181615\n",
       "2  QReR-S3  1.0  0.058779  0.409200"
      ]
     },
     "execution_count": 22,
     "metadata": {},
     "output_type": "execute_result"
    }
   ],
   "source": [
    "qrer_df_all = pd.concat(qrer_df_list)\n",
    "qrer_df_all"
   ]
  },
  {
   "cell_type": "code",
   "execution_count": 23,
   "metadata": {},
   "outputs": [
    {
     "data": {
      "text/plain": [
       "0.30154945171487313"
      ]
     },
     "execution_count": 23,
     "metadata": {},
     "output_type": "execute_result"
    }
   ],
   "source": [
    "(sate_qrer_s2_array-sate_all)[12]"
   ]
  },
  {
   "cell_type": "code",
   "execution_count": 24,
   "metadata": {},
   "outputs": [
    {
     "data": {
      "text/html": [
       "<div>\n",
       "<style scoped>\n",
       "    .dataframe tbody tr th:only-of-type {\n",
       "        vertical-align: middle;\n",
       "    }\n",
       "\n",
       "    .dataframe tbody tr th {\n",
       "        vertical-align: top;\n",
       "    }\n",
       "\n",
       "    .dataframe thead th {\n",
       "        text-align: right;\n",
       "    }\n",
       "</style>\n",
       "<table border=\"1\" class=\"dataframe\">\n",
       "  <thead>\n",
       "    <tr style=\"text-align: right;\">\n",
       "      <th></th>\n",
       "      <th>method</th>\n",
       "      <th>pa</th>\n",
       "      <th>bias</th>\n",
       "      <th>rmse</th>\n",
       "    </tr>\n",
       "  </thead>\n",
       "  <tbody>\n",
       "    <tr>\n",
       "      <td>0</td>\n",
       "      <td>QReR-S1</td>\n",
       "      <td>0.1</td>\n",
       "      <td>-0.005185</td>\n",
       "      <td>0.230776</td>\n",
       "    </tr>\n",
       "    <tr>\n",
       "      <td>1</td>\n",
       "      <td>QReR-S2</td>\n",
       "      <td>0.1</td>\n",
       "      <td>-0.019333</td>\n",
       "      <td>0.177289</td>\n",
       "    </tr>\n",
       "    <tr>\n",
       "      <td>2</td>\n",
       "      <td>QReR-S3</td>\n",
       "      <td>0.1</td>\n",
       "      <td>-0.005185</td>\n",
       "      <td>0.230776</td>\n",
       "    </tr>\n",
       "    <tr>\n",
       "      <td>0</td>\n",
       "      <td>ReR</td>\n",
       "      <td>0.1</td>\n",
       "      <td>-0.010935</td>\n",
       "      <td>0.127269</td>\n",
       "    </tr>\n",
       "    <tr>\n",
       "      <td>0</td>\n",
       "      <td>QReR-S1</td>\n",
       "      <td>0.5</td>\n",
       "      <td>0.152681</td>\n",
       "      <td>0.380447</td>\n",
       "    </tr>\n",
       "    <tr>\n",
       "      <td>1</td>\n",
       "      <td>QReR-S2</td>\n",
       "      <td>0.5</td>\n",
       "      <td>-0.028233</td>\n",
       "      <td>0.189485</td>\n",
       "    </tr>\n",
       "    <tr>\n",
       "      <td>2</td>\n",
       "      <td>QReR-S3</td>\n",
       "      <td>0.5</td>\n",
       "      <td>0.152681</td>\n",
       "      <td>0.380447</td>\n",
       "    </tr>\n",
       "    <tr>\n",
       "      <td>0</td>\n",
       "      <td>ReR</td>\n",
       "      <td>0.5</td>\n",
       "      <td>0.016529</td>\n",
       "      <td>0.166550</td>\n",
       "    </tr>\n",
       "    <tr>\n",
       "      <td>0</td>\n",
       "      <td>QReR-S1</td>\n",
       "      <td>1.0</td>\n",
       "      <td>0.058779</td>\n",
       "      <td>0.409200</td>\n",
       "    </tr>\n",
       "    <tr>\n",
       "      <td>1</td>\n",
       "      <td>QReR-S2</td>\n",
       "      <td>1.0</td>\n",
       "      <td>-0.033584</td>\n",
       "      <td>0.181615</td>\n",
       "    </tr>\n",
       "    <tr>\n",
       "      <td>2</td>\n",
       "      <td>QReR-S3</td>\n",
       "      <td>1.0</td>\n",
       "      <td>0.058779</td>\n",
       "      <td>0.409200</td>\n",
       "    </tr>\n",
       "    <tr>\n",
       "      <td>0</td>\n",
       "      <td>ReR</td>\n",
       "      <td>1.0</td>\n",
       "      <td>0.020951</td>\n",
       "      <td>0.276938</td>\n",
       "    </tr>\n",
       "  </tbody>\n",
       "</table>\n",
       "</div>"
      ],
      "text/plain": [
       "    method   pa      bias      rmse\n",
       "0  QReR-S1  0.1 -0.005185  0.230776\n",
       "1  QReR-S2  0.1 -0.019333  0.177289\n",
       "2  QReR-S3  0.1 -0.005185  0.230776\n",
       "0      ReR  0.1 -0.010935  0.127269\n",
       "0  QReR-S1  0.5  0.152681  0.380447\n",
       "1  QReR-S2  0.5 -0.028233  0.189485\n",
       "2  QReR-S3  0.5  0.152681  0.380447\n",
       "0      ReR  0.5  0.016529  0.166550\n",
       "0  QReR-S1  1.0  0.058779  0.409200\n",
       "1  QReR-S2  1.0 -0.033584  0.181615\n",
       "2  QReR-S3  1.0  0.058779  0.409200\n",
       "0      ReR  1.0  0.020951  0.276938"
      ]
     },
     "execution_count": 24,
     "metadata": {},
     "output_type": "execute_result"
    }
   ],
   "source": [
    "sate_df = pd.concat([rer_df_all,qrer_df_all])\n",
    "sate_df = sate_df.sort_values(by=['pa','method'])\n",
    "sate_df"
   ]
  },
  {
   "cell_type": "code",
   "execution_count": 25,
   "metadata": {},
   "outputs": [],
   "source": [
    "sate_df.to_csv(save_folder_root+'sate.csv')"
   ]
  },
  {
   "cell_type": "markdown",
   "metadata": {},
   "source": [
    "## Other Methods"
   ]
  },
  {
   "cell_type": "code",
   "execution_count": 26,
   "metadata": {},
   "outputs": [],
   "source": [
    "wrappers_list = [ipw1_wrapper,match_wrapper,matchit_wrapper,\n",
    "                 ebal_wrapper,optweight_wrapper,ate_wrapper]\n",
    "name_list = ['IPW','PSM','FM','EBAL','SBW','EBCW']\n",
    "pate_benchmarks_lists = [[] for i in range(len(name_list))]"
   ]
  },
  {
   "cell_type": "code",
   "execution_count": 27,
   "metadata": {},
   "outputs": [],
   "source": [
    "save_folder_pate = save_folder_root + 'pate/'"
   ]
  },
  {
   "cell_type": "code",
   "execution_count": 28,
   "metadata": {},
   "outputs": [],
   "source": [
    "if not os.path.exists(save_folder_pate):\n",
    "    os.makedirs(save_folder_pate)\n",
    "\n",
    "if not os.path.exists(save_folder_pate+'benchmarks.npy'):\n",
    "    \n",
    "    for i in tqdm(range(100)):\n",
    "    \n",
    "        x = df_list[0][['x'+str(i+1) for i in range(25)]].values\n",
    "        sc = StandardScaler()\n",
    "        x = sc.fit_transform(x)\n",
    "        z = df_list[0]['t'].values\n",
    "        y = df_list[i]['yf'].values\n",
    "\n",
    "        for j,wrapper in enumerate(wrappers_list):\n",
    "            try:\n",
    "                rlts = wrapper(y,z,x)\n",
    "                est = rlts[0]\n",
    "            except:\n",
    "                est = np.nan\n",
    "            pate_benchmarks_lists[j].append([est])\n",
    "\n",
    "    pate_benchmarks_lists = np.array(pate_benchmarks_lists)\n",
    "    pate_benchmarks_lists = pate_benchmarks_lists.reshape(-1,100)\n",
    "    np.save(save_folder_pate+'benchmarks.npy',pate_benchmarks_lists)\n",
    "\n",
    "else:\n",
    "    pate_benchmarks_lists = np.load(save_folder_pate+'benchmarks.npy')"
   ]
  },
  {
   "cell_type": "code",
   "execution_count": 29,
   "metadata": {},
   "outputs": [
    {
     "data": {
      "text/plain": [
       "array([-0.85339327,  0.06450624, -0.06670538, -0.02788241, -0.03012232,\n",
       "       -0.02816495])"
      ]
     },
     "execution_count": 29,
     "metadata": {},
     "output_type": "execute_result"
    }
   ],
   "source": [
    "pate_benchmarks_bias = np.mean(pate_benchmarks_lists - pate_all.reshape(-1,100),axis=1)\n",
    "pate_benchmarks_bias"
   ]
  },
  {
   "cell_type": "code",
   "execution_count": 30,
   "metadata": {},
   "outputs": [
    {
     "data": {
      "text/plain": [
       "array([1.14324024, 0.23069285, 0.25293452, 0.183626  , 0.18044308,\n",
       "       0.18386888])"
      ]
     },
     "execution_count": 30,
     "metadata": {},
     "output_type": "execute_result"
    }
   ],
   "source": [
    "pate_benchmarks_rmse = np.sqrt(np.mean((pate_benchmarks_lists - pate_all.reshape(-1,100))**2,axis=1))\n",
    "pate_benchmarks_rmse"
   ]
  },
  {
   "cell_type": "code",
   "execution_count": 31,
   "metadata": {},
   "outputs": [
    {
     "data": {
      "text/plain": [
       "0.18721532433167598"
      ]
     },
     "execution_count": 31,
     "metadata": {},
     "output_type": "execute_result"
    }
   ],
   "source": [
    "np.sqrt(np.mean((sate_qrer_s2_array-pate_all)**2))"
   ]
  },
  {
   "cell_type": "code",
   "execution_count": 32,
   "metadata": {},
   "outputs": [
    {
     "data": {
      "text/html": [
       "<div>\n",
       "<style scoped>\n",
       "    .dataframe tbody tr th:only-of-type {\n",
       "        vertical-align: middle;\n",
       "    }\n",
       "\n",
       "    .dataframe tbody tr th {\n",
       "        vertical-align: top;\n",
       "    }\n",
       "\n",
       "    .dataframe thead th {\n",
       "        text-align: right;\n",
       "    }\n",
       "</style>\n",
       "<table border=\"1\" class=\"dataframe\">\n",
       "  <thead>\n",
       "    <tr style=\"text-align: right;\">\n",
       "      <th></th>\n",
       "      <th>method</th>\n",
       "      <th>bias</th>\n",
       "      <th>rmse</th>\n",
       "    </tr>\n",
       "  </thead>\n",
       "  <tbody>\n",
       "    <tr>\n",
       "      <td>0</td>\n",
       "      <td>IPW</td>\n",
       "      <td>-0.853393</td>\n",
       "      <td>1.143240</td>\n",
       "    </tr>\n",
       "    <tr>\n",
       "      <td>1</td>\n",
       "      <td>PSM</td>\n",
       "      <td>0.064506</td>\n",
       "      <td>0.230693</td>\n",
       "    </tr>\n",
       "    <tr>\n",
       "      <td>2</td>\n",
       "      <td>FM</td>\n",
       "      <td>-0.066705</td>\n",
       "      <td>0.252935</td>\n",
       "    </tr>\n",
       "    <tr>\n",
       "      <td>3</td>\n",
       "      <td>EBAL</td>\n",
       "      <td>-0.027882</td>\n",
       "      <td>0.183626</td>\n",
       "    </tr>\n",
       "    <tr>\n",
       "      <td>4</td>\n",
       "      <td>SBW</td>\n",
       "      <td>-0.030122</td>\n",
       "      <td>0.180443</td>\n",
       "    </tr>\n",
       "    <tr>\n",
       "      <td>5</td>\n",
       "      <td>EBCW</td>\n",
       "      <td>-0.028165</td>\n",
       "      <td>0.183869</td>\n",
       "    </tr>\n",
       "  </tbody>\n",
       "</table>\n",
       "</div>"
      ],
      "text/plain": [
       "  method      bias      rmse\n",
       "0    IPW -0.853393  1.143240\n",
       "1    PSM  0.064506  0.230693\n",
       "2     FM -0.066705  0.252935\n",
       "3   EBAL -0.027882  0.183626\n",
       "4    SBW -0.030122  0.180443\n",
       "5   EBCW -0.028165  0.183869"
      ]
     },
     "execution_count": 32,
     "metadata": {},
     "output_type": "execute_result"
    }
   ],
   "source": [
    "pate_benchmarks_df = pd.DataFrame({\n",
    "    'method':name_list,\n",
    "    'bias':pate_benchmarks_bias,\n",
    "    'rmse':pate_benchmarks_rmse\n",
    "})\n",
    "pate_benchmarks_df"
   ]
  },
  {
   "cell_type": "code",
   "execution_count": 33,
   "metadata": {},
   "outputs": [
    {
     "name": "stderr",
     "output_type": "stream",
     "text": [
      "\r",
      "  0%|          | 0/1 [00:00<?, ?it/s]"
     ]
    },
    {
     "name": "stdout",
     "output_type": "stream",
     "text": [
      "Skip! The model has been trained.\n",
      "Initialize the network via pretraining.\n"
     ]
    },
    {
     "name": "stderr",
     "output_type": "stream",
     "text": [
      "100%|██████████| 1/1 [00:00<00:00,  1.44it/s]\n"
     ]
    },
    {
     "name": "stdout",
     "output_type": "stream",
     "text": [
      "Pretraining complete!\n"
     ]
    },
    {
     "name": "stderr",
     "output_type": "stream",
     "text": [
      "100%|██████████| 100/100 [00:00<00:00, 2135.26it/s]\n"
     ]
    }
   ],
   "source": [
    "for pa in [0.1]:\n",
    "    batch_size = 512\n",
    "    lr = 1e-3#1e-3#5e-4\n",
    "    init_method = 'normal'\n",
    "    val_metric = 'KS'#'KS'#'Loss'\n",
    "    x_lambda = 1\n",
    "    wt_lambda = 1\n",
    "    num_nodes = 512\n",
    "    num_iters = 5000\n",
    "    num_noval_iters = 0#1000\n",
    "    num_init_iters = 500\n",
    "    patience = 15\n",
    "    save_folder = './save/'\n",
    "    random_state = 0\n",
    "    kernel_params = {'kernel':'rbf',\n",
    "                     'gamma':10, \n",
    "                     'degree':2,\n",
    "                     'c':1}\n",
    "    \n",
    "    x = df_list[0][['x'+str(i+1) for i in range(25)]].values\n",
    "    sc = StandardScaler()\n",
    "    x = sc.fit_transform(x)\n",
    "    z = df_list[0]['t'].values\n",
    "\n",
    "    save_folder_qrer = save_folder_root + 'qrer/pa='+str(pa)+'/'\n",
    "    if not os.path.exists(save_folder_qrer):\n",
    "        print('Creat the folder for QReR.')\n",
    "        os.makedirs(save_folder_qrer)\n",
    "\n",
    "    if not os.path.exists(save_folder_qrer +'final_checkpoint.pt'):\n",
    "        print('Train the model from scratch.')\n",
    "\n",
    "        estimator = QRWG(lr=lr,\n",
    "                         batch_size=batch_size,\n",
    "                         patience=patience,\n",
    "                         num_iters=num_iters,\n",
    "                         num_init_iters=num_init_iters,\n",
    "                         num_noval_iters=num_noval_iters,\n",
    "                         pa=pa,\n",
    "                         x_lambda=x_lambda,\n",
    "                         wt_lambda=wt_lambda,\n",
    "                         num_nodes=num_nodes,\n",
    "                         save_folder=save_folder_qrer,\n",
    "                         val_metric=val_metric,\n",
    "                         verbose=True,\n",
    "                         kernel_params=kernel_params,\n",
    "                         random_state=random_state)\n",
    "    \n",
    "        estimator.fit(x,z)\n",
    "    else:\n",
    "        print('Skip! The model has been trained.')\n",
    "        estimator = QRWG(lr=lr,\n",
    "                          batch_size=batch_size,\n",
    "                          patience=patience,\n",
    "                          num_iters=num_iters,\n",
    "                          num_init_iters=1,\n",
    "                          pa=pa,\n",
    "                         x_lambda=x_lambda,\n",
    "                         wt_lambda=wt_lambda,\n",
    "                          num_nodes=num_nodes,\n",
    "                          val_metric=val_metric,\n",
    "                          save_folder=save_folder_qrer,\n",
    "                          kernel_params=kernel_params,\n",
    "                          verbose=False,\n",
    "                          random_state=random_state)\n",
    "        estimator.w = z\n",
    "        estimator.nwts = int(estimator.w.shape[0])\n",
    "        estimator.nt = int(z.sum())\n",
    "        estimator.nc = int((1-z).sum())\n",
    "        estimator._init_network()\n",
    "        estimator.netG.load_state_dict(torch.load(save_folder_qrer+'final_checkpoint.pt'))\n",
    "        \n",
    "    # inference\n",
    "\n",
    "    np.random.seed(seed)\n",
    "    torch.manual_seed(seed)\n",
    "\n",
    "    wts_mat_net = estimator.predict(1000).numpy()\n",
    "    pate_qrer_s2_array = []\n",
    "\n",
    "    for i in tqdm(range(100)):\n",
    "\n",
    "        yf = df_list[i]['yf'].values\n",
    "\n",
    "        avg_wts = wts_mat_net.mean(axis=0)\n",
    "        pate_qrer_s2 = tau_diff(yf,z,avg_wts)\n",
    "        pate_qrer_s2_array.append(pate_qrer_s2)\n",
    "\n",
    "    pate_qrer_s2_array = np.array(pate_qrer_s2_array)\n",
    "\n",
    "    pate_qrer_bias = np.mean(pate_qrer_s2_array-pate_all)\n",
    "    pate_qrer_rmse = np.sqrt(np.mean((pate_qrer_s2_array-pate_all)**2))"
   ]
  },
  {
   "cell_type": "code",
   "execution_count": 34,
   "metadata": {},
   "outputs": [
    {
     "data": {
      "text/html": [
       "<div>\n",
       "<style scoped>\n",
       "    .dataframe tbody tr th:only-of-type {\n",
       "        vertical-align: middle;\n",
       "    }\n",
       "\n",
       "    .dataframe tbody tr th {\n",
       "        vertical-align: top;\n",
       "    }\n",
       "\n",
       "    .dataframe thead th {\n",
       "        text-align: right;\n",
       "    }\n",
       "</style>\n",
       "<table border=\"1\" class=\"dataframe\">\n",
       "  <thead>\n",
       "    <tr style=\"text-align: right;\">\n",
       "      <th></th>\n",
       "      <th>method</th>\n",
       "      <th>bias</th>\n",
       "      <th>rmse</th>\n",
       "    </tr>\n",
       "  </thead>\n",
       "  <tbody>\n",
       "    <tr>\n",
       "      <td>0</td>\n",
       "      <td>QReR-S2</td>\n",
       "      <td>-0.024229</td>\n",
       "      <td>0.183295</td>\n",
       "    </tr>\n",
       "  </tbody>\n",
       "</table>\n",
       "</div>"
      ],
      "text/plain": [
       "    method      bias      rmse\n",
       "0  QReR-S2 -0.024229  0.183295"
      ]
     },
     "execution_count": 34,
     "metadata": {},
     "output_type": "execute_result"
    }
   ],
   "source": [
    "pate_qrer_df = pd.DataFrame({'method':['QReR-S2'],\n",
    "                   'bias':[pate_qrer_bias],\n",
    "                   'rmse':[pate_qrer_rmse]})\n",
    "pate_qrer_df"
   ]
  },
  {
   "cell_type": "code",
   "execution_count": 35,
   "metadata": {},
   "outputs": [],
   "source": [
    "# def raw_wrapper(y,z,x):\n",
    "#     return sp_infer(y,z,np.ones(y.shape[0]))\n",
    "\n",
    "# est_raw_list = []\n",
    "# for i in tqdm(range(100)):\n",
    "\n",
    "#     x = df_list[0][['x'+str(i+1) for i in range(25)]].values\n",
    "#     sc = StandardScaler()\n",
    "#     x = sc.fit_transform(x)\n",
    "#     z = df_list[0]['t'].values\n",
    "#     y = df_list[i]['yf'].values\n",
    "\n",
    "#     est_raw = raw_wrapper(y,z,x)[0]\n",
    "#     est_raw_list.append(est_raw)\n",
    "\n",
    "# pate_raw_array = np.array(est_raw_list)\n",
    "\n",
    "# pate_raw_bias = np.mean(pate_raw_array-pate_all)\n",
    "# pate_raw_rmse = np.sqrt(np.mean((pate_raw_array-pate_all)**2))\n",
    "\n",
    "# pate_raw_df = pd.DataFrame({'method':['RAW'],\n",
    "#                    'bias':[pate_raw_bias],\n",
    "#                    'rmse':[pate_raw_rmse]})\n",
    "# pate_raw_df"
   ]
  },
  {
   "cell_type": "code",
   "execution_count": 37,
   "metadata": {},
   "outputs": [
    {
     "data": {
      "text/html": [
       "<div>\n",
       "<style scoped>\n",
       "    .dataframe tbody tr th:only-of-type {\n",
       "        vertical-align: middle;\n",
       "    }\n",
       "\n",
       "    .dataframe tbody tr th {\n",
       "        vertical-align: top;\n",
       "    }\n",
       "\n",
       "    .dataframe thead th {\n",
       "        text-align: right;\n",
       "    }\n",
       "</style>\n",
       "<table border=\"1\" class=\"dataframe\">\n",
       "  <thead>\n",
       "    <tr style=\"text-align: right;\">\n",
       "      <th></th>\n",
       "      <th>method</th>\n",
       "      <th>bias</th>\n",
       "      <th>rmse</th>\n",
       "    </tr>\n",
       "  </thead>\n",
       "  <tbody>\n",
       "    <tr>\n",
       "      <td>0</td>\n",
       "      <td>IPW</td>\n",
       "      <td>-0.853393</td>\n",
       "      <td>1.143240</td>\n",
       "    </tr>\n",
       "    <tr>\n",
       "      <td>1</td>\n",
       "      <td>PSM</td>\n",
       "      <td>0.064506</td>\n",
       "      <td>0.230693</td>\n",
       "    </tr>\n",
       "    <tr>\n",
       "      <td>2</td>\n",
       "      <td>FM</td>\n",
       "      <td>-0.066705</td>\n",
       "      <td>0.252935</td>\n",
       "    </tr>\n",
       "    <tr>\n",
       "      <td>3</td>\n",
       "      <td>EBAL</td>\n",
       "      <td>-0.027882</td>\n",
       "      <td>0.183626</td>\n",
       "    </tr>\n",
       "    <tr>\n",
       "      <td>4</td>\n",
       "      <td>SBW</td>\n",
       "      <td>-0.030122</td>\n",
       "      <td>0.180443</td>\n",
       "    </tr>\n",
       "    <tr>\n",
       "      <td>5</td>\n",
       "      <td>EBCW</td>\n",
       "      <td>-0.028165</td>\n",
       "      <td>0.183869</td>\n",
       "    </tr>\n",
       "    <tr>\n",
       "      <td>0</td>\n",
       "      <td>QReR-S2</td>\n",
       "      <td>-0.024229</td>\n",
       "      <td>0.183295</td>\n",
       "    </tr>\n",
       "  </tbody>\n",
       "</table>\n",
       "</div>"
      ],
      "text/plain": [
       "    method      bias      rmse\n",
       "0      IPW -0.853393  1.143240\n",
       "1      PSM  0.064506  0.230693\n",
       "2       FM -0.066705  0.252935\n",
       "3     EBAL -0.027882  0.183626\n",
       "4      SBW -0.030122  0.180443\n",
       "5     EBCW -0.028165  0.183869\n",
       "0  QReR-S2 -0.024229  0.183295"
      ]
     },
     "execution_count": 37,
     "metadata": {},
     "output_type": "execute_result"
    }
   ],
   "source": [
    "pate_df = pd.concat([pate_benchmarks_df,pate_qrer_df])\n",
    "pate_df"
   ]
  },
  {
   "cell_type": "code",
   "execution_count": 38,
   "metadata": {},
   "outputs": [],
   "source": [
    "pate_df.to_csv(save_folder_root+'pate.csv')"
   ]
  },
  {
   "cell_type": "markdown",
   "metadata": {},
   "source": [
    "## Generate Plots"
   ]
  },
  {
   "cell_type": "code",
   "execution_count": 55,
   "metadata": {},
   "outputs": [
    {
     "name": "stderr",
     "output_type": "stream",
     "text": [
      "100%|██████████| 1/1 [00:00<00:00, 19.90it/s]"
     ]
    },
    {
     "name": "stdout",
     "output_type": "stream",
     "text": [
      "Skip! The model has been trained.\n",
      "Initialize the network via pretraining.\n",
      "Pretraining complete!\n"
     ]
    },
    {
     "name": "stderr",
     "output_type": "stream",
     "text": [
      "\n"
     ]
    },
    {
     "name": "stdout",
     "output_type": "stream",
     "text": [
      "KS Statistics: [0.09488    0.03313785]\n"
     ]
    },
    {
     "data": {
      "image/png": "[encoded data removed]",
      "text/plain": [
       "<Figure size 720x1440 with 1 Axes>"
      ]
     },
     "metadata": {
      "needs_background": "light"
     },
     "output_type": "display_data"
    },
    {
     "name": "stderr",
     "output_type": "stream",
     "text": [
      "100%|██████████| 1/1 [00:00<00:00, 18.10it/s]"
     ]
    },
    {
     "name": "stdout",
     "output_type": "stream",
     "text": [
      "Skip! The model has been trained.\n",
      "Initialize the network via pretraining.\n",
      "Pretraining complete!\n"
     ]
    },
    {
     "name": "stderr",
     "output_type": "stream",
     "text": [
      "\n"
     ]
    },
    {
     "name": "stdout",
     "output_type": "stream",
     "text": [
      "KS Statistics: [0.0858     0.02631607]\n"
     ]
    },
    {
     "data": {
      "image/png": "[encoded data removed]",
      "text/plain": [
       "<Figure size 720x1440 with 1 Axes>"
      ]
     },
     "metadata": {
      "needs_background": "light"
     },
     "output_type": "display_data"
    },
    {
     "name": "stderr",
     "output_type": "stream",
     "text": [
      "100%|██████████| 1/1 [00:00<00:00, 23.36it/s]"
     ]
    },
    {
     "name": "stdout",
     "output_type": "stream",
     "text": [
      "Skip! The model has been trained.\n",
      "Initialize the network via pretraining.\n",
      "Pretraining complete!\n"
     ]
    },
    {
     "name": "stderr",
     "output_type": "stream",
     "text": [
      "\n"
     ]
    },
    {
     "name": "stdout",
     "output_type": "stream",
     "text": [
      "KS Statistics: [0.08652    0.02112167]\n"
     ]
    },
    {
     "data": {
      "image/png": "[encoded data removed]",
      "text/plain": [
       "<Figure size 720x1440 with 1 Axes>"
      ]
     },
     "metadata": {
      "needs_background": "light"
     },
     "output_type": "display_data"
    }
   ],
   "source": [
    "qrer_df_list = []\n",
    "\n",
    "#for pa in [0.1]:\n",
    "for pa in [0.1,0.5,1]:\n",
    "    batch_size = 512\n",
    "    lr = 1e-3#1e-3#5e-4\n",
    "    init_method = 'normal'\n",
    "    val_metric = 'KS'#'KS'#'Loss'\n",
    "    x_lambda = 1\n",
    "    wt_lambda = 1\n",
    "    num_nodes = 512\n",
    "    num_iters = 5000\n",
    "    num_noval_iters = 0#1000\n",
    "    num_init_iters = 500\n",
    "    patience = 15\n",
    "    save_folder = './save/'\n",
    "    random_state = 0\n",
    "    kernel_params = {'kernel':'rbf',\n",
    "                     'gamma':10, \n",
    "                     'degree':2,\n",
    "                     'c':1}\n",
    "\n",
    "    save_folder_qrer = save_folder_root + 'qrer/pa='+str(pa)+'/'\n",
    "    if not os.path.exists(save_folder_qrer):\n",
    "        print('Creat the folder for QReR.')\n",
    "        os.makedirs(save_folder_qrer)\n",
    "\n",
    "    if not os.path.exists(save_folder_qrer +'final_checkpoint.pt'):\n",
    "        print('Train the model from scratch.')\n",
    "\n",
    "        estimator = QRWG(lr=lr,\n",
    "                         batch_size=batch_size,\n",
    "                         patience=patience,\n",
    "                         num_iters=num_iters,\n",
    "                         num_init_iters=num_init_iters,\n",
    "                         num_noval_iters=num_noval_iters,\n",
    "                         pa=pa,\n",
    "                         x_lambda=x_lambda,\n",
    "                         wt_lambda=wt_lambda,\n",
    "                         num_nodes=num_nodes,\n",
    "                         save_folder=save_folder_qrer,\n",
    "                         val_metric=val_metric,\n",
    "                         verbose=True,\n",
    "                         kernel_params=kernel_params,\n",
    "                         random_state=random_state)\n",
    "    \n",
    "        estimator.fit(x,z)\n",
    "    else:\n",
    "        print('Skip! The model has been trained.')\n",
    "        estimator = QRWG(lr=lr,\n",
    "                          batch_size=batch_size,\n",
    "                          patience=patience,\n",
    "                          num_iters=num_iters,\n",
    "                          num_init_iters=1,\n",
    "                          pa=pa,\n",
    "                         x_lambda=x_lambda,\n",
    "                         wt_lambda=wt_lambda,\n",
    "                          num_nodes=num_nodes,\n",
    "                          val_metric=val_metric,\n",
    "                          save_folder=save_folder_qrer,\n",
    "                          kernel_params=kernel_params,\n",
    "                          verbose=False,\n",
    "                          random_state=random_state)\n",
    "        estimator.w = z\n",
    "        estimator.nwts = int(estimator.w.shape[0])\n",
    "        estimator.nt = int(z.sum())\n",
    "        estimator.nc = int((1-z).sum())\n",
    "        estimator._init_network()\n",
    "        estimator.netG.load_state_dict(torch.load(save_folder_qrer+'final_checkpoint.pt'))\n",
    "        \n",
    "    # inference\n",
    "\n",
    "    np.random.seed(seed)\n",
    "    torch.manual_seed(seed)\n",
    "\n",
    "    if not os.path.exists(save_folder_rer+'mdist_pa'+str(pa*10)+'.npy'):\n",
    "\n",
    "        # rerandomization\n",
    "        z_mat_rer = np.array([ReR(pa,torch.Tensor(x),nt)[0].numpy() for i in range(1000)])\n",
    "        np.save(save_folder_rer+'zmat_pa'+str(pa*10)+'.npy', z_mat_rer)\n",
    "        \n",
    "        mdist_array = np.array([ReR(pa,torch.Tensor(x),np.sum(z))[1].item() for i in tqdm(range(1000))])\n",
    "        np.save(save_folder_rer+'mdist_pa'+str(pa*10)+'.npy', mdist_array)\n",
    "    else:\n",
    "        mdist_array = np.load(save_folder_rer+'mdist_pa'+str(pa*10)+'.npy')\n",
    "        z_mat_rer = np.load(save_folder_rer+'zmat_pa'+str(pa*10)+'.npy')\n",
    "\n",
    "    wts_mat_net = estimator.predict(1000).numpy()\n",
    "    \n",
    "    from scipy.stats import ks_2samp\n",
    "    mdiff_mat_net = np.array([cov_mdiff(x,z,wts_mat_net[i]) for i in range(wts_mat_net.shape[0])])\n",
    "    mdiff_mat_rer = np.array([cov_mdiff(x,z_mat_rer[i]) for i in range(z_mat_rer.shape[0])])\n",
    "    ks_stats = np.mean(np.array([ks_2samp(mdiff_mat_net[:,i],mdiff_mat_rer[:,i]) for i in range(mdiff_mat_net.shape[1])]),axis=0)\n",
    "    print('KS Statistics:',ks_stats)\n",
    "    \n",
    "    import pandas as pd\n",
    "\n",
    "    df_mdiff_net = pd.DataFrame(mdiff_mat_net,columns=['$X_{'+str(i+1)+'}$' for i in range(mdiff_mat_net.shape[1])])\n",
    "    df_mdiff_net['Method'] = 'QReR'\n",
    "    df_mdiff_rer = pd.DataFrame(mdiff_mat_rer,columns=['$X_{'+str(i+1)+'}$' for i in range(mdiff_mat_rer.shape[1])])\n",
    "    df_mdiff_rer['Method'] = 'ReR($p_a$=%.1f)'%(pa)\n",
    "\n",
    "    df_mdiff = pd.concat([df_mdiff_net,df_mdiff_rer],axis=0)\n",
    "    df_mdiff = pd.melt(df_mdiff,id_vars=['Method'],var_name=['Variable'],value_name='Value')\n",
    "    \n",
    "    plt.figure(figsize=(10,20))\n",
    "    sb.boxplot(x='Value',\n",
    "               y='Variable',\n",
    "               orient='h',\n",
    "               hue=\"Method\",data=df_mdiff,showfliers = False)\n",
    "    plt.ylabel('$\\\\bar{\\mathbf{X}}_1-\\\\bar{\\mathbf{X}}_0$',fontsize=20)\n",
    "    plt.xlabel('Covariates',fontsize=20)\n",
    "    plt.xticks(fontsize=20)\n",
    "    plt.yticks(fontsize=20)\n",
    "    plt.legend(bbox_to_anchor=(0.85, 1.05),ncol=2,fontsize=20)\n",
    "    plt.savefig(save_folder_root+'/ihdp_mdiff_pa'+str(int(pa*10))+'.pdf')\n",
    "    plt.show()"
   ]
  },
  {
   "cell_type": "code",
   "execution_count": 49,
   "metadata": {},
   "outputs": [
    {
     "data": {
      "text/plain": [
       "array([0.057     , 0.07761108])"
      ]
     },
     "execution_count": 49,
     "metadata": {},
     "output_type": "execute_result"
    }
   ],
   "source": [
    "np.median(np.array([ks_2samp(mdiff_mat_net[:,i],mdiff_mat_rer[:,i]) for i in range(6)]),axis=0)"
   ]
  },
  {
   "cell_type": "code",
   "execution_count": 50,
   "metadata": {},
   "outputs": [
    {
     "data": {
      "text/plain": [
       "array([0.057     , 0.07761108])"
      ]
     },
     "execution_count": 50,
     "metadata": {},
     "output_type": "execute_result"
    }
   ],
   "source": [
    "np.median(np.array([ks_2samp(mdiff_mat_net[:,i],mdiff_mat_rer[:,i]) for i in range(6)]),axis=0)"
   ]
  },
  {
   "cell_type": "code",
   "execution_count": null,
   "metadata": {},
   "outputs": [],
   "source": [
    "# # generate the wts prediction and rerandomization allocations\n",
    "# np.random.seed(2021)\n",
    "# wts_mat_net = estimator.predict(1000).numpy()\n",
    "# z_mat_rer = np.load(save_folder_rer+'zmat_pa'+str(pa*10)+'.npy')"
   ]
  },
  {
   "cell_type": "code",
   "execution_count": null,
   "metadata": {},
   "outputs": [],
   "source": [
    "# # generate the mean difference matrix for weight matrix and rer mat\n",
    "# mdiff_mat_net = np.array([cov_mdiff(x,z,wts_mat_net[i]) for i in range(wts_mat_net.shape[0])])\n",
    "# mdiff_mat_rer = np.array([cov_mdiff(x,z_mat_rer[i]) for i in range(z_mat_rer.shape[0])])"
   ]
  },
  {
   "cell_type": "code",
   "execution_count": null,
   "metadata": {},
   "outputs": [],
   "source": [
    "# # mean value of covariate test\n",
    "# from scipy.stats import ks_2samp\n",
    "# ks_stats = np.array([ks_2samp(mdiff_mat_net[:,i],mdiff_mat_rer[:,i]) for i in range(mdiff_mat_net.shape[1])])\n",
    "# np.median(ks_stats,axis=0)"
   ]
  }
 ],
 "metadata": {
  "colab": {
   "collapsed_sections": [],
   "name": "0324QReR_RealData.ipynb",
   "version": ""
  },
  "kernelspec": {
   "display_name": "Python 3",
   "language": "python",
   "name": "python3"
  },
  "language_info": {
   "codemirror_mode": {
    "name": "ipython",
    "version": 3
   },
   "file_extension": ".py",
   "mimetype": "text/x-python",
   "name": "python",
   "nbconvert_exporter": "python",
   "pygments_lexer": "ipython3",
   "version": "3.8.8"
  },
  "toc": {
   "base_numbering": 1,
   "nav_menu": {},
   "number_sections": true,
   "sideBar": true,
   "skip_h1_title": false,
   "title_cell": "Table of Contents",
   "title_sidebar": "Contents",
   "toc_cell": false,
   "toc_position": {},
   "toc_section_display": true,
   "toc_window_display": false
  },
  "varInspector": {
   "cols": {
    "lenName": 16,
    "lenType": 16,
    "lenVar": 40
   },
   "kernels_config": {
    "python": {
     "delete_cmd_postfix": "",
     "delete_cmd_prefix": "del ",
     "library": "var_list.py",
     "varRefreshCmd": "print(var_dic_list())"
    },
    "r": {
     "delete_cmd_postfix": ") ",
     "delete_cmd_prefix": "rm(",
     "library": "var_list.r",
     "varRefreshCmd": "cat(var_dic_list()) "
    }
   },
   "types_to_exclude": [
    "module",
    "function",
    "builtin_function_or_method",
    "instance",
    "_Feature"
   ],
   "window_display": false
  }
 },
 "nbformat": 4,
 "nbformat_minor": 1
}
