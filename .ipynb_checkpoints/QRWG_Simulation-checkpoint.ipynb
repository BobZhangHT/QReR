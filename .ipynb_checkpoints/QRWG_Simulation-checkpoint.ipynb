{
 "cells": [
  {
   "cell_type": "code",
   "execution_count": 1,
   "metadata": {
    "executionInfo": {
     "elapsed": 1085,
     "status": "ok",
     "timestamp": 1606368610343,
     "user": {
      "displayName": "Hengtao Zhang",
      "photoUrl": "",
      "userId": "09630016737102292563"
     },
     "user_tz": -480
    },
    "id": "rYLn_2xa9h_r"
   },
   "outputs": [],
   "source": [
    "import os"
   ]
  },
  {
   "cell_type": "code",
   "execution_count": 2,
   "metadata": {
    "colab": {
     "base_uri": "https://localhost:8080/"
    },
    "executionInfo": {
     "elapsed": 1615,
     "status": "ok",
     "timestamp": 1606368610880,
     "user": {
      "displayName": "Hengtao Zhang",
      "photoUrl": "",
      "userId": "09630016737102292563"
     },
     "user_tz": -480
    },
    "id": "v6rZ4f8n9h_r",
    "outputId": "f18e95eb-1eba-445c-c777-74480a9103d7"
   },
   "outputs": [
    {
     "ename": "FileNotFoundError",
     "evalue": "[Errno 2] No such file or directory: '/content/drive/MyDrive/Github/QRWG'",
     "output_type": "error",
     "traceback": [
      "\u001b[0;31m---------------------------------------------------------------------------\u001b[0m",
      "\u001b[0;31mFileNotFoundError\u001b[0m                         Traceback (most recent call last)",
      "\u001b[0;32m<ipython-input-2-eaa5e41c76c6>\u001b[0m in \u001b[0;36m<module>\u001b[0;34m\u001b[0m\n\u001b[0;32m----> 1\u001b[0;31m \u001b[0mos\u001b[0m\u001b[0;34m.\u001b[0m\u001b[0mchdir\u001b[0m\u001b[0;34m(\u001b[0m\u001b[0;34m\"/content/drive/MyDrive/Github/QRWG\"\u001b[0m\u001b[0;34m)\u001b[0m\u001b[0;34m\u001b[0m\u001b[0;34m\u001b[0m\u001b[0m\n\u001b[0m\u001b[1;32m      2\u001b[0m \u001b[0mprint\u001b[0m\u001b[0;34m(\u001b[0m\u001b[0mos\u001b[0m\u001b[0;34m.\u001b[0m\u001b[0mgetcwd\u001b[0m\u001b[0;34m(\u001b[0m\u001b[0;34m)\u001b[0m\u001b[0;34m)\u001b[0m\u001b[0;34m\u001b[0m\u001b[0;34m\u001b[0m\u001b[0m\n",
      "\u001b[0;31mFileNotFoundError\u001b[0m: [Errno 2] No such file or directory: '/content/drive/MyDrive/Github/QRWG'"
     ]
    }
   ],
   "source": [
    "os.chdir(\"/content/drive/MyDrive/Github/QRWG\")\n",
    "print(os.getcwd())"
   ]
  },
  {
   "cell_type": "code",
   "execution_count": 3,
   "metadata": {
    "executionInfo": {
     "elapsed": 3413,
     "status": "ok",
     "timestamp": 1606368612685,
     "user": {
      "displayName": "Hengtao Zhang",
      "photoUrl": "",
      "userId": "09630016737102292563"
     },
     "user_tz": -480
    },
    "id": "sAM_YrqI9h_r"
   },
   "outputs": [],
   "source": [
    "import torch\n",
    "import numpy as np\n",
    "import matplotlib.pyplot as plt\n",
    "import seaborn as sb\n",
    "import pandas as pd\n",
    "\n",
    "from datagen import *\n",
    "from network import *"
   ]
  },
  {
   "cell_type": "code",
   "execution_count": 4,
   "metadata": {
    "executionInfo": {
     "elapsed": 3410,
     "status": "ok",
     "timestamp": 1606368612687,
     "user": {
      "displayName": "Hengtao Zhang",
      "photoUrl": "",
      "userId": "09630016737102292563"
     },
     "user_tz": -480
    },
    "id": "7L1v5ykL9h_r"
   },
   "outputs": [],
   "source": [
    "# data path\n",
    "data_path = './save/simu_data/'\n",
    "\n",
    "# network training \n",
    "batch_size = 256\n",
    "lr = 1e-3\n",
    "pa = 0.05#np.inf\n",
    "init_method = 'uniform'\n",
    "num_nodes = 128\n",
    "num_iters = 1500\n",
    "patience = 5\n",
    "random_state = 0"
   ]
  },
  {
   "cell_type": "code",
   "execution_count": 5,
   "metadata": {
    "executionInfo": {
     "elapsed": 3405,
     "status": "ok",
     "timestamp": 1606368612687,
     "user": {
      "displayName": "Hengtao Zhang",
      "photoUrl": "",
      "userId": "09630016737102292563"
     },
     "user_tz": -480
    },
    "id": "djcXxvVu9h_s"
   },
   "outputs": [],
   "source": [
    "i = 0"
   ]
  },
  {
   "cell_type": "code",
   "execution_count": 6,
   "metadata": {
    "executionInfo": {
     "elapsed": 3402,
     "status": "ok",
     "timestamp": 1606368612688,
     "user": {
      "displayName": "Hengtao Zhang",
      "photoUrl": "",
      "userId": "09630016737102292563"
     },
     "user_tz": -480
    },
    "id": "YFS4MElb9h_s"
   },
   "outputs": [],
   "source": [
    "# load the data\n",
    "data_full_path = data_path + 'd' + str(i) + '.npy'\n",
    "dat = np.load(data_full_path,allow_pickle=True)"
   ]
  },
  {
   "cell_type": "code",
   "execution_count": 7,
   "metadata": {
    "executionInfo": {
     "elapsed": 3398,
     "status": "ok",
     "timestamp": 1606368612689,
     "user": {
      "displayName": "Hengtao Zhang",
      "photoUrl": "",
      "userId": "09630016737102292563"
     },
     "user_tz": -480
    },
    "id": "Wzub-U3A9h_s"
   },
   "outputs": [],
   "source": [
    "# unzip the data\n",
    "x = dat.item()['x']\n",
    "z = dat.item()['z']\n",
    "y1 = dat.item()['y1']\n",
    "y2 = dat.item()['y2']\n",
    "y3 = dat.item()['y3']"
   ]
  },
  {
   "cell_type": "code",
   "execution_count": 8,
   "metadata": {
    "executionInfo": {
     "elapsed": 3393,
     "status": "ok",
     "timestamp": 1606368612689,
     "user": {
      "displayName": "Hengtao Zhang",
      "photoUrl": "",
      "userId": "09630016737102292563"
     },
     "user_tz": -480
    },
    "id": "Ly60Zlso9h_s"
   },
   "outputs": [],
   "source": [
    "save_folder = './save/qrwg_pa='+str(pa)+'/'+str(i)+'/'"
   ]
  },
  {
   "cell_type": "code",
   "execution_count": 9,
   "metadata": {
    "colab": {
     "base_uri": "https://localhost:8080/",
     "height": 1000
    },
    "executionInfo": {
     "elapsed": 236378,
     "status": "ok",
     "timestamp": 1606368845679,
     "user": {
      "displayName": "Hengtao Zhang",
      "photoUrl": "",
      "userId": "09630016737102292563"
     },
     "user_tz": -480
    },
    "id": "XGgIOG0N9h_s",
    "outputId": "6bf3d785-6054-49a9-9f1f-bb7a19891b0f"
   },
   "outputs": [
    {
     "name": "stdout",
     "output_type": "stream",
     "text": [
      "Train the model from scratch.\n"
     ]
    },
    {
     "ename": "KeyboardInterrupt",
     "evalue": "",
     "output_type": "error",
     "traceback": [
      "\u001b[0;31m---------------------------------------------------------------------------\u001b[0m",
      "\u001b[0;31mKeyboardInterrupt\u001b[0m                         Traceback (most recent call last)",
      "\u001b[0;32m<ipython-input-9-8215a157ab2f>\u001b[0m in \u001b[0;36m<module>\u001b[0;34m\u001b[0m\n\u001b[1;32m     17\u001b[0m \u001b[0;34m\u001b[0m\u001b[0m\n\u001b[1;32m     18\u001b[0m     \u001b[0;31m# train the model from scratch\u001b[0m\u001b[0;34m\u001b[0m\u001b[0;34m\u001b[0m\u001b[0;34m\u001b[0m\u001b[0m\n\u001b[0;32m---> 19\u001b[0;31m     \u001b[0mestimator\u001b[0m\u001b[0;34m.\u001b[0m\u001b[0mfit\u001b[0m\u001b[0;34m(\u001b[0m\u001b[0mx\u001b[0m\u001b[0;34m,\u001b[0m\u001b[0mz\u001b[0m\u001b[0;34m)\u001b[0m\u001b[0;34m\u001b[0m\u001b[0;34m\u001b[0m\u001b[0m\n\u001b[0m\u001b[1;32m     20\u001b[0m \u001b[0;34m\u001b[0m\u001b[0m\n\u001b[1;32m     21\u001b[0m     \u001b[0;31m# save the loss and other plots for diagnosis\u001b[0m\u001b[0;34m\u001b[0m\u001b[0;34m\u001b[0m\u001b[0;34m\u001b[0m\u001b[0m\n",
      "\u001b[0;32m~/Google 云端硬盘（zhanght@connect.hku.hk）/Github/QRWG/network.py\u001b[0m in \u001b[0;36mfit\u001b[0;34m(self, x, w, w_rer_mat, mdist_rer_vec, num_fixed_noise, num_rer)\u001b[0m\n\u001b[1;32m    354\u001b[0m \u001b[0;34m\u001b[0m\u001b[0m\n\u001b[1;32m    355\u001b[0m         \u001b[0;31m# data initialization\u001b[0m\u001b[0;34m\u001b[0m\u001b[0;34m\u001b[0m\u001b[0;34m\u001b[0m\u001b[0m\n\u001b[0;32m--> 356\u001b[0;31m         \u001b[0mself\u001b[0m\u001b[0;34m.\u001b[0m\u001b[0m_init_data\u001b[0m\u001b[0;34m(\u001b[0m\u001b[0mx\u001b[0m\u001b[0;34m,\u001b[0m\u001b[0mw_rer_mat\u001b[0m\u001b[0;34m,\u001b[0m\u001b[0mmdist_rer_vec\u001b[0m\u001b[0;34m,\u001b[0m\u001b[0mnum_fixed_noise\u001b[0m\u001b[0;34m,\u001b[0m\u001b[0mnum_rer\u001b[0m\u001b[0;34m)\u001b[0m\u001b[0;34m\u001b[0m\u001b[0;34m\u001b[0m\u001b[0m\n\u001b[0m\u001b[1;32m    357\u001b[0m \u001b[0;34m\u001b[0m\u001b[0m\n\u001b[1;32m    358\u001b[0m         \u001b[0;31m# network initialization\u001b[0m\u001b[0;34m\u001b[0m\u001b[0;34m\u001b[0m\u001b[0;34m\u001b[0m\u001b[0m\n",
      "\u001b[0;32m~/Google 云端硬盘（zhanght@connect.hku.hk）/Github/QRWG/network.py\u001b[0m in \u001b[0;36m_init_data\u001b[0;34m(self, x, w_rer_mat, mdist_rer_vec, num_fixed_noise, num_rer)\u001b[0m\n\u001b[1;32m    303\u001b[0m \u001b[0;34m\u001b[0m\u001b[0m\n\u001b[1;32m    304\u001b[0m         \u001b[0;31m# generate fixed real mdist for evaluation\u001b[0m\u001b[0;34m\u001b[0m\u001b[0;34m\u001b[0m\u001b[0;34m\u001b[0m\u001b[0m\n\u001b[0;32m--> 305\u001b[0;31m         \u001b[0mself\u001b[0m\u001b[0;34m.\u001b[0m\u001b[0mreal_fixed_mdist\u001b[0m \u001b[0;34m=\u001b[0m \u001b[0mtorch\u001b[0m\u001b[0;34m.\u001b[0m\u001b[0mTensor\u001b[0m\u001b[0;34m(\u001b[0m\u001b[0;34m[\u001b[0m\u001b[0mReR\u001b[0m\u001b[0;34m(\u001b[0m\u001b[0mself\u001b[0m\u001b[0;34m.\u001b[0m\u001b[0mpa\u001b[0m\u001b[0;34m,\u001b[0m\u001b[0mx\u001b[0m\u001b[0;34m)\u001b[0m\u001b[0;34m[\u001b[0m\u001b[0;36m1\u001b[0m\u001b[0;34m]\u001b[0m \u001b[0;32mfor\u001b[0m \u001b[0mi\u001b[0m \u001b[0;32min\u001b[0m \u001b[0mrange\u001b[0m\u001b[0;34m(\u001b[0m\u001b[0mnum_fixed_noise\u001b[0m\u001b[0;34m)\u001b[0m\u001b[0;34m]\u001b[0m\u001b[0;34m)\u001b[0m\u001b[0;34m\u001b[0m\u001b[0;34m\u001b[0m\u001b[0m\n\u001b[0m\u001b[1;32m    306\u001b[0m \u001b[0;34m\u001b[0m\u001b[0m\n\u001b[1;32m    307\u001b[0m         \u001b[0;31m# generate the randomized allocations with mahalanobis distance if they are not provided\u001b[0m\u001b[0;34m\u001b[0m\u001b[0;34m\u001b[0m\u001b[0;34m\u001b[0m\u001b[0m\n",
      "\u001b[0;32m~/Google 云端硬盘（zhanght@connect.hku.hk）/Github/QRWG/network.py\u001b[0m in \u001b[0;36m<listcomp>\u001b[0;34m(.0)\u001b[0m\n\u001b[1;32m    303\u001b[0m \u001b[0;34m\u001b[0m\u001b[0m\n\u001b[1;32m    304\u001b[0m         \u001b[0;31m# generate fixed real mdist for evaluation\u001b[0m\u001b[0;34m\u001b[0m\u001b[0;34m\u001b[0m\u001b[0;34m\u001b[0m\u001b[0m\n\u001b[0;32m--> 305\u001b[0;31m         \u001b[0mself\u001b[0m\u001b[0;34m.\u001b[0m\u001b[0mreal_fixed_mdist\u001b[0m \u001b[0;34m=\u001b[0m \u001b[0mtorch\u001b[0m\u001b[0;34m.\u001b[0m\u001b[0mTensor\u001b[0m\u001b[0;34m(\u001b[0m\u001b[0;34m[\u001b[0m\u001b[0mReR\u001b[0m\u001b[0;34m(\u001b[0m\u001b[0mself\u001b[0m\u001b[0;34m.\u001b[0m\u001b[0mpa\u001b[0m\u001b[0;34m,\u001b[0m\u001b[0mx\u001b[0m\u001b[0;34m)\u001b[0m\u001b[0;34m[\u001b[0m\u001b[0;36m1\u001b[0m\u001b[0;34m]\u001b[0m \u001b[0;32mfor\u001b[0m \u001b[0mi\u001b[0m \u001b[0;32min\u001b[0m \u001b[0mrange\u001b[0m\u001b[0;34m(\u001b[0m\u001b[0mnum_fixed_noise\u001b[0m\u001b[0;34m)\u001b[0m\u001b[0;34m]\u001b[0m\u001b[0;34m)\u001b[0m\u001b[0;34m\u001b[0m\u001b[0;34m\u001b[0m\u001b[0m\n\u001b[0m\u001b[1;32m    306\u001b[0m \u001b[0;34m\u001b[0m\u001b[0m\n\u001b[1;32m    307\u001b[0m         \u001b[0;31m# generate the randomized allocations with mahalanobis distance if they are not provided\u001b[0m\u001b[0;34m\u001b[0m\u001b[0;34m\u001b[0m\u001b[0;34m\u001b[0m\u001b[0m\n",
      "\u001b[0;32m~/Google 云端硬盘（zhanght@connect.hku.hk）/Github/QRWG/network.py\u001b[0m in \u001b[0;36mReR\u001b[0;34m(pa, x)\u001b[0m\n\u001b[1;32m     35\u001b[0m     \u001b[0;32mwhile\u001b[0m \u001b[0mmdist\u001b[0m\u001b[0;34m>\u001b[0m\u001b[0ma\u001b[0m\u001b[0;34m:\u001b[0m\u001b[0;34m\u001b[0m\u001b[0;34m\u001b[0m\u001b[0m\n\u001b[1;32m     36\u001b[0m         \u001b[0mw\u001b[0m \u001b[0;34m=\u001b[0m \u001b[0mtorch\u001b[0m\u001b[0;34m.\u001b[0m\u001b[0mtensor\u001b[0m\u001b[0;34m(\u001b[0m\u001b[0;34m[\u001b[0m\u001b[0;36m0\u001b[0m\u001b[0;34m,\u001b[0m\u001b[0;36m1\u001b[0m\u001b[0;34m]\u001b[0m\u001b[0;34m)\u001b[0m\u001b[0;34m.\u001b[0m\u001b[0mrepeat\u001b[0m\u001b[0;34m(\u001b[0m\u001b[0mint\u001b[0m\u001b[0;34m(\u001b[0m\u001b[0mn\u001b[0m\u001b[0;34m/\u001b[0m\u001b[0;36m2\u001b[0m\u001b[0;34m)\u001b[0m\u001b[0;34m)\u001b[0m\u001b[0;34m[\u001b[0m\u001b[0mtorch\u001b[0m\u001b[0;34m.\u001b[0m\u001b[0mrandperm\u001b[0m\u001b[0;34m(\u001b[0m\u001b[0mn\u001b[0m\u001b[0;34m)\u001b[0m\u001b[0;34m]\u001b[0m\u001b[0;34m\u001b[0m\u001b[0;34m\u001b[0m\u001b[0m\n\u001b[0;32m---> 37\u001b[0;31m         \u001b[0mmdist\u001b[0m \u001b[0;34m=\u001b[0m \u001b[0mmaha_dist\u001b[0m\u001b[0;34m(\u001b[0m\u001b[0mx\u001b[0m\u001b[0;34m,\u001b[0m\u001b[0mw\u001b[0m\u001b[0;34m)\u001b[0m\u001b[0;34m\u001b[0m\u001b[0;34m\u001b[0m\u001b[0m\n\u001b[0m\u001b[1;32m     38\u001b[0m \u001b[0;34m\u001b[0m\u001b[0m\n\u001b[1;32m     39\u001b[0m     \u001b[0;32mreturn\u001b[0m \u001b[0mw\u001b[0m\u001b[0;34m,\u001b[0m \u001b[0mmdist\u001b[0m\u001b[0;34m\u001b[0m\u001b[0;34m\u001b[0m\u001b[0m\n",
      "\u001b[0;32m~/Google 云端硬盘（zhanght@connect.hku.hk）/Github/QRWG/network.py\u001b[0m in \u001b[0;36mmaha_dist\u001b[0;34m(x, w, wts)\u001b[0m\n\u001b[1;32m     66\u001b[0m         \u001b[0;31m#xbar0 = torch.matmul(x.t(),(1-w)*wts)/n0\u001b[0m\u001b[0;34m\u001b[0m\u001b[0;34m\u001b[0m\u001b[0;34m\u001b[0m\u001b[0m\n\u001b[1;32m     67\u001b[0m         \u001b[0mxbar1\u001b[0m \u001b[0;34m=\u001b[0m \u001b[0;34m(\u001b[0m\u001b[0mx\u001b[0m\u001b[0;34m[\u001b[0m\u001b[0mw\u001b[0m\u001b[0;34m==\u001b[0m\u001b[0;36m1\u001b[0m\u001b[0;34m,\u001b[0m\u001b[0;34m:\u001b[0m\u001b[0;34m]\u001b[0m\u001b[0;34m.\u001b[0m\u001b[0mt\u001b[0m\u001b[0;34m(\u001b[0m\u001b[0;34m)\u001b[0m\u001b[0;34m*\u001b[0m\u001b[0mwts\u001b[0m\u001b[0;34m[\u001b[0m\u001b[0mw\u001b[0m\u001b[0;34m==\u001b[0m\u001b[0;36m1\u001b[0m\u001b[0;34m]\u001b[0m\u001b[0;34m)\u001b[0m\u001b[0;34m.\u001b[0m\u001b[0msum\u001b[0m\u001b[0;34m(\u001b[0m\u001b[0maxis\u001b[0m\u001b[0;34m=\u001b[0m\u001b[0;36m1\u001b[0m\u001b[0;34m)\u001b[0m\u001b[0;34m/\u001b[0m\u001b[0mn1\u001b[0m\u001b[0;34m\u001b[0m\u001b[0;34m\u001b[0m\u001b[0m\n\u001b[0;32m---> 68\u001b[0;31m         \u001b[0mxbar0\u001b[0m \u001b[0;34m=\u001b[0m \u001b[0;34m(\u001b[0m\u001b[0mx\u001b[0m\u001b[0;34m[\u001b[0m\u001b[0mw\u001b[0m\u001b[0;34m==\u001b[0m\u001b[0;36m0\u001b[0m\u001b[0;34m,\u001b[0m\u001b[0;34m:\u001b[0m\u001b[0;34m]\u001b[0m\u001b[0;34m.\u001b[0m\u001b[0mt\u001b[0m\u001b[0;34m(\u001b[0m\u001b[0;34m)\u001b[0m\u001b[0;34m*\u001b[0m\u001b[0mwts\u001b[0m\u001b[0;34m[\u001b[0m\u001b[0mw\u001b[0m\u001b[0;34m==\u001b[0m\u001b[0;36m0\u001b[0m\u001b[0;34m]\u001b[0m\u001b[0;34m)\u001b[0m\u001b[0;34m.\u001b[0m\u001b[0msum\u001b[0m\u001b[0;34m(\u001b[0m\u001b[0maxis\u001b[0m\u001b[0;34m=\u001b[0m\u001b[0;36m1\u001b[0m\u001b[0;34m)\u001b[0m\u001b[0;34m/\u001b[0m\u001b[0mn0\u001b[0m\u001b[0;34m\u001b[0m\u001b[0;34m\u001b[0m\u001b[0m\n\u001b[0m\u001b[1;32m     69\u001b[0m         \u001b[0mdelta\u001b[0m \u001b[0;34m=\u001b[0m \u001b[0mxbar1\u001b[0m \u001b[0;34m-\u001b[0m \u001b[0mxbar0\u001b[0m\u001b[0;34m\u001b[0m\u001b[0;34m\u001b[0m\u001b[0m\n\u001b[1;32m     70\u001b[0m \u001b[0;34m\u001b[0m\u001b[0m\n",
      "\u001b[0;31mKeyboardInterrupt\u001b[0m: "
     ]
    }
   ],
   "source": [
    "if not os.path.exists(save_folder):\n",
    "    print('Creat the folder.')\n",
    "    os.makedirs(save_folder)\n",
    "    \n",
    "if not os.path.exists(save_folder+'final_checkpoint.pt'):\n",
    "    print('Train the model from scratch.')\n",
    "    \n",
    "    estimator = QRWG(lr=lr,\n",
    "                     batch_size=batch_size,\n",
    "                     patience=patience,\n",
    "                     num_iters=num_iters,\n",
    "                     pa=pa,\n",
    "                     init_method=init_method,\n",
    "                     num_nodes=num_nodes,\n",
    "                     save_folder=save_folder,\n",
    "                     verbose=True,\n",
    "                     random_state=random_state)\n",
    "    \n",
    "    # train the model from scratch\n",
    "    estimator.fit(x,z)\n",
    "    \n",
    "    # save the loss and other plots for diagnosis\n",
    "\n",
    "    # loss\n",
    "    plt.figure()\n",
    "    plt.plot(estimator.losses[100:],label='Total Loss')\n",
    "    plt.plot(estimator.qqlosses[100:],label='QQLoss')\n",
    "    plt.plot(estimator.mdifflosses[100:],label='MdiffLoss')\n",
    "    plt.legend()\n",
    "    plt.savefig(save_folder+\"loss_trace.png\")\n",
    "    plt.show()\n",
    "\n",
    "    # mean difference\n",
    "    plt.figure()\n",
    "    plt.plot(estimator.x_mdiff_list)\n",
    "    plt.savefig(save_folder+\"mdiff_trace.png\")\n",
    "    plt.show()\n",
    "\n",
    "    # ks difference\n",
    "    plt.figure()\n",
    "    plt.plot(estimator.ks_list)\n",
    "    plt.savefig(save_folder+\"ks_trace.png\")\n",
    "    plt.show()\n",
    "\n",
    "    # val_ks \n",
    "    plt.figure()\n",
    "    plt.plot(estimator.val_ks_list)\n",
    "    plt.savefig(save_folder+\"val_ks_trace.png\")\n",
    "    plt.show()\n",
    "    \n",
    "    # save covariance balance\n",
    "    wts_mat_net = estimator.predict().numpy()\n",
    "    z_mat_rer = np.array([ReR(pa,torch.Tensor(x))[0].numpy() for i in range(1000)])\n",
    "\n",
    "    mdiff_mat_net = np.array([cov_mdiff(x,z,wts_mat_net[i]) for i in range(wts_mat_net.shape[0])])\n",
    "    mdiff_mat_rer = np.array([cov_mdiff(x,z_mat_rer[i]) for i in range(z_mat_rer.shape[0])])\n",
    "\n",
    "    df_mdiff_net = pd.DataFrame(mdiff_mat_net,columns=['X'+str(i+1) for i in range(mdiff_mat_net.shape[1])])\n",
    "    df_mdiff_net['Method'] = 'QRWG'\n",
    "    df_mdiff_rer = pd.DataFrame(mdiff_mat_rer,columns=['X'+str(i+1) for i in range(mdiff_mat_rer.shape[1])])\n",
    "    df_mdiff_rer['Method'] = 'ReR'\n",
    "\n",
    "    df_mdiff = pd.concat([df_mdiff_net,df_mdiff_rer],axis=0)\n",
    "    df_mdiff = pd.melt(df_mdiff,id_vars=['Method'],var_name=['Variable'],value_name='Value')\n",
    "\n",
    "    plt.figure(figsize=(10,6))\n",
    "    sb.boxplot(x='Variable',y='Value',\n",
    "               hue=\"Method\",data=df_mdiff)\n",
    "    plt.ylabel('$\\\\bar{x}_T-\\\\bar{x}_C$',fontsize=12)\n",
    "    plt.xlabel('Covariates',fontsize=12)\n",
    "    plt.savefig(save_folder+\"covbalance.pdf\")\n",
    "    plt.show()\n",
    "    \n",
    "    # save inferences results\n",
    "    tau1_vec_net = np.array([tau_diff(y1,z,wts_mat_net[i]) for i in range(wts_mat_net.shape[0])])\n",
    "    tau2_vec_net = np.array([tau_diff(y2,z,wts_mat_net[i]) for i in range(wts_mat_net.shape[0])])\n",
    "    tau3_vec_net = np.array([tau_diff(y3,z,wts_mat_net[i]) for i in range(wts_mat_net.shape[0])])\n",
    "\n",
    "    df_est = pd.DataFrame({\n",
    "        'tauhat': [tau1_vec_net.mean(),tau2_vec_net.mean(),tau3_vec_net.mean()],\n",
    "        '95CI_lb': [np.quantile(tau1_vec_net,0.025),np.quantile(tau2_vec_net,0.025),np.quantile(tau3_vec_net,0.025)],\n",
    "        '95CI_ub': [np.quantile(tau1_vec_net,0.975),np.quantile(tau2_vec_net,0.975),np.quantile(tau3_vec_net,0.975)]\n",
    "    })\n",
    "\n",
    "    df_est.to_csv(save_folder+\"tau_est.csv\",index=False)\n",
    "    \n",
    "else:\n",
    "    \n",
    "    print('Skip! The model has been trained.')\n",
    "    \n",
    "#         # load from existing model\n",
    "#         estimator.self._init_data()\n",
    "#         estimator.self._init_network()\n",
    "#         estimator.netG.load_state_dict(torch.load(save_folder+'best_checkpoint.pt'))"
   ]
  },
  {
   "cell_type": "code",
   "execution_count": null,
   "metadata": {
    "executionInfo": {
     "elapsed": 236373,
     "status": "ok",
     "timestamp": 1606368845680,
     "user": {
      "displayName": "Hengtao Zhang",
      "photoUrl": "",
      "userId": "09630016737102292563"
     },
     "user_tz": -480
    },
    "id": "QjeWJ6yq-I1g"
   },
   "outputs": [],
   "source": []
  }
 ],
 "metadata": {
  "colab": {
   "collapsed_sections": [],
   "name": "QRWG_Simulation.ipynb",
   "provenance": []
  },
  "kernelspec": {
   "display_name": "Python 3",
   "language": "python",
   "name": "python3"
  },
  "language_info": {
   "codemirror_mode": {
    "name": "ipython",
    "version": 3
   },
   "file_extension": ".py",
   "mimetype": "text/x-python",
   "name": "python",
   "nbconvert_exporter": "python",
   "pygments_lexer": "ipython3",
   "version": "3.7.4"
  },
  "toc": {
   "base_numbering": 1,
   "nav_menu": {},
   "number_sections": true,
   "sideBar": true,
   "skip_h1_title": false,
   "title_cell": "Table of Contents",
   "title_sidebar": "Contents",
   "toc_cell": false,
   "toc_position": {},
   "toc_section_display": true,
   "toc_window_display": false
  },
  "varInspector": {
   "cols": {
    "lenName": 16,
    "lenType": 16,
    "lenVar": 40
   },
   "kernels_config": {
    "python": {
     "delete_cmd_postfix": "",
     "delete_cmd_prefix": "del ",
     "library": "var_list.py",
     "varRefreshCmd": "print(var_dic_list())"
    },
    "r": {
     "delete_cmd_postfix": ") ",
     "delete_cmd_prefix": "rm(",
     "library": "var_list.r",
     "varRefreshCmd": "cat(var_dic_list()) "
    }
   },
   "types_to_exclude": [
    "module",
    "function",
    "builtin_function_or_method",
    "instance",
    "_Feature"
   ],
   "window_display": false
  }
 },
 "nbformat": 4,
 "nbformat_minor": 1
}
