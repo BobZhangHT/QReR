{
 "cells": [
  {
   "cell_type": "code",
   "execution_count": 1,
   "metadata": {},
   "outputs": [],
   "source": [
    "import numpy as np\n",
    "import pandas as pd\n",
    "from tqdm import tqdm\n",
    "import os"
   ]
  },
  {
   "cell_type": "code",
   "execution_count": 2,
   "metadata": {},
   "outputs": [],
   "source": [
    "save_file = './save/'"
   ]
  },
  {
   "cell_type": "code",
   "execution_count": 3,
   "metadata": {},
   "outputs": [],
   "source": [
    "save_benchmark_files = save_file + 'benchmarks/'\n",
    "save_qrwg_files = save_file + 'qrwg_pa=0.05/'"
   ]
  },
  {
   "cell_type": "code",
   "execution_count": 4,
   "metadata": {},
   "outputs": [],
   "source": [
    "tau = 1"
   ]
  },
  {
   "cell_type": "code",
   "execution_count": 5,
   "metadata": {},
   "outputs": [],
   "source": [
    "ipw_array = []\n",
    "dr_array = []\n",
    "match_mcm_array = []\n",
    "match_mnm_array = []\n",
    "qrwg_array = []"
   ]
  },
  {
   "cell_type": "code",
   "execution_count": 6,
   "metadata": {},
   "outputs": [],
   "source": [
    "def summary_table_gen(dat_array,tau,method):\n",
    "    bias = dat_array[:,:,0].mean(axis=0)-1\n",
    "    std = dat_array[:,:,1].std(axis=0)\n",
    "    rmse = np.sqrt(((dat_array[:,:,0]-1)**2).mean(axis=0))\n",
    "    covarage = ((dat_array[:,:,1]<=tau)*(dat_array[:,:,2]>=tau)).mean(axis=0)\n",
    "    width = (dat_array[:,:,2] - dat_array[:,:,1]).mean(axis=0)\n",
    "    \n",
    "    df = pd.DataFrame({'Outcome':['First','Second','Third'],\n",
    "                   'Bias':bias,\n",
    "                   'Std':std,\n",
    "                   'RMSE':rmse,\n",
    "                   'CI Covarage':covarage,\n",
    "                   'CI Width':width,\n",
    "                   'Method':method})\n",
    "    return df"
   ]
  },
  {
   "cell_type": "code",
   "execution_count": 7,
   "metadata": {},
   "outputs": [
    {
     "name": "stderr",
     "output_type": "stream",
     "text": [
      "100%|██████████| 1000/1000 [00:13<00:00, 73.64it/s]\n"
     ]
    }
   ],
   "source": [
    "for i in tqdm(range(1000)):\n",
    "    ipw_df = pd.read_csv(save_benchmark_files + str(i) + '/ipw.csv')\n",
    "    dr_df = pd.read_csv(save_benchmark_files + str(i) + '/dr.csv')\n",
    "    match_mnm_df = pd.read_csv(save_benchmark_files + str(i) + '/match_mnm.csv')\n",
    "    match_mcm_df = pd.read_csv(save_benchmark_files + str(i) + '/match_mcm.csv')\n",
    "    qrwg_df = pd.read_csv(save_qrwg_files + str(i) + '/tau_est.csv')\n",
    "    \n",
    "    ipw = ipw_df.iloc[:3,:3].values\n",
    "    dr = dr_df.iloc[:3,:3].values\n",
    "    match_mcm = match_mcm_df.iloc[:3,:3].values\n",
    "    match_mnm = match_mnm_df.iloc[:3,:3].values\n",
    "    qrwg = qrwg_df.values\n",
    "    \n",
    "    ipw_array.append(ipw)\n",
    "    dr_array.append(dr)\n",
    "    match_mcm_array.append(match_mcm)\n",
    "    match_mnm_array.append(match_mnm)\n",
    "    qrwg_array.append(qrwg)"
   ]
  },
  {
   "cell_type": "code",
   "execution_count": 8,
   "metadata": {},
   "outputs": [],
   "source": [
    "ipw_array = np.array(ipw_array)\n",
    "dr_array = np.array(dr_array)\n",
    "match_mcm_array = np.array(match_mcm_array)\n",
    "match_mnm_array = np.array(match_mnm_array)\n",
    "qrwg_array = np.array(qrwg_array)"
   ]
  },
  {
   "cell_type": "code",
   "execution_count": 9,
   "metadata": {},
   "outputs": [],
   "source": [
    "ipw_sum_df = summary_table_gen(ipw_array,tau,'IPW')\n",
    "dr_sum_df = summary_table_gen(dr_array,tau,'DR')\n",
    "match_mcm_sum_df = summary_table_gen(match_mcm_array,tau,'M-C-m')\n",
    "match_mnm_sum_df = summary_table_gen(match_mnm_array,tau,'M-N-m')\n",
    "qrwg_sum_df = summary_table_gen(qrwg_array,tau,'QRWG')"
   ]
  },
  {
   "cell_type": "code",
   "execution_count": 10,
   "metadata": {},
   "outputs": [
    {
     "data": {
      "text/html": [
       "<div>\n",
       "<style scoped>\n",
       "    .dataframe tbody tr th:only-of-type {\n",
       "        vertical-align: middle;\n",
       "    }\n",
       "\n",
       "    .dataframe tbody tr th {\n",
       "        vertical-align: top;\n",
       "    }\n",
       "\n",
       "    .dataframe thead th {\n",
       "        text-align: right;\n",
       "    }\n",
       "</style>\n",
       "<table border=\"1\" class=\"dataframe\">\n",
       "  <thead>\n",
       "    <tr style=\"text-align: right;\">\n",
       "      <th></th>\n",
       "      <th>Outcome</th>\n",
       "      <th>Bias</th>\n",
       "      <th>Std</th>\n",
       "      <th>RMSE</th>\n",
       "      <th>CI Covarage</th>\n",
       "      <th>CI Width</th>\n",
       "      <th>Method</th>\n",
       "    </tr>\n",
       "  </thead>\n",
       "  <tbody>\n",
       "    <tr>\n",
       "      <td>0</td>\n",
       "      <td>First</td>\n",
       "      <td>0.011260</td>\n",
       "      <td>0.141977</td>\n",
       "      <td>0.131995</td>\n",
       "      <td>0.998</td>\n",
       "      <td>0.883009</td>\n",
       "      <td>QRWG</td>\n",
       "    </tr>\n",
       "    <tr>\n",
       "      <td>1</td>\n",
       "      <td>Second</td>\n",
       "      <td>-0.241081</td>\n",
       "      <td>0.987083</td>\n",
       "      <td>0.978538</td>\n",
       "      <td>0.677</td>\n",
       "      <td>2.005453</td>\n",
       "      <td>QRWG</td>\n",
       "    </tr>\n",
       "    <tr>\n",
       "      <td>2</td>\n",
       "      <td>Third</td>\n",
       "      <td>0.076905</td>\n",
       "      <td>1.602629</td>\n",
       "      <td>1.432878</td>\n",
       "      <td>0.591</td>\n",
       "      <td>2.370904</td>\n",
       "      <td>QRWG</td>\n",
       "    </tr>\n",
       "  </tbody>\n",
       "</table>\n",
       "</div>"
      ],
      "text/plain": [
       "  Outcome      Bias       Std      RMSE  CI Covarage  CI Width Method\n",
       "0   First  0.011260  0.141977  0.131995        0.998  0.883009   QRWG\n",
       "1  Second -0.241081  0.987083  0.978538        0.677  2.005453   QRWG\n",
       "2   Third  0.076905  1.602629  1.432878        0.591  2.370904   QRWG"
      ]
     },
     "execution_count": 10,
     "metadata": {},
     "output_type": "execute_result"
    }
   ],
   "source": [
    "qrwg_sum_df "
   ]
  },
  {
   "cell_type": "code",
   "execution_count": 11,
   "metadata": {},
   "outputs": [
    {
     "data": {
      "text/html": [
       "<div>\n",
       "<style scoped>\n",
       "    .dataframe tbody tr th:only-of-type {\n",
       "        vertical-align: middle;\n",
       "    }\n",
       "\n",
       "    .dataframe tbody tr th {\n",
       "        vertical-align: top;\n",
       "    }\n",
       "\n",
       "    .dataframe thead th {\n",
       "        text-align: right;\n",
       "    }\n",
       "</style>\n",
       "<table border=\"1\" class=\"dataframe\">\n",
       "  <thead>\n",
       "    <tr style=\"text-align: right;\">\n",
       "      <th></th>\n",
       "      <th>Outcome</th>\n",
       "      <th>Bias</th>\n",
       "      <th>Std</th>\n",
       "      <th>RMSE</th>\n",
       "      <th>CI Covarage</th>\n",
       "      <th>CI Width</th>\n",
       "      <th>Method</th>\n",
       "    </tr>\n",
       "  </thead>\n",
       "  <tbody>\n",
       "    <tr>\n",
       "      <td>0</td>\n",
       "      <td>First</td>\n",
       "      <td>0.015431</td>\n",
       "      <td>0.703428</td>\n",
       "      <td>0.354315</td>\n",
       "      <td>0.958</td>\n",
       "      <td>1.597691</td>\n",
       "      <td>IPW</td>\n",
       "    </tr>\n",
       "    <tr>\n",
       "      <td>1</td>\n",
       "      <td>Second</td>\n",
       "      <td>-0.016716</td>\n",
       "      <td>3.876556</td>\n",
       "      <td>0.995551</td>\n",
       "      <td>1.000</td>\n",
       "      <td>9.967476</td>\n",
       "      <td>IPW</td>\n",
       "    </tr>\n",
       "    <tr>\n",
       "      <td>2</td>\n",
       "      <td>Third</td>\n",
       "      <td>0.072074</td>\n",
       "      <td>36.071643</td>\n",
       "      <td>1.911749</td>\n",
       "      <td>0.981</td>\n",
       "      <td>14.715582</td>\n",
       "      <td>IPW</td>\n",
       "    </tr>\n",
       "  </tbody>\n",
       "</table>\n",
       "</div>"
      ],
      "text/plain": [
       "  Outcome      Bias        Std      RMSE  CI Covarage   CI Width Method\n",
       "0   First  0.015431   0.703428  0.354315        0.958   1.597691    IPW\n",
       "1  Second -0.016716   3.876556  0.995551        1.000   9.967476    IPW\n",
       "2   Third  0.072074  36.071643  1.911749        0.981  14.715582    IPW"
      ]
     },
     "execution_count": 11,
     "metadata": {},
     "output_type": "execute_result"
    }
   ],
   "source": [
    "ipw_sum_df"
   ]
  },
  {
   "cell_type": "code",
   "execution_count": 12,
   "metadata": {},
   "outputs": [
    {
     "data": {
      "text/html": [
       "<div>\n",
       "<style scoped>\n",
       "    .dataframe tbody tr th:only-of-type {\n",
       "        vertical-align: middle;\n",
       "    }\n",
       "\n",
       "    .dataframe tbody tr th {\n",
       "        vertical-align: top;\n",
       "    }\n",
       "\n",
       "    .dataframe thead th {\n",
       "        text-align: right;\n",
       "    }\n",
       "</style>\n",
       "<table border=\"1\" class=\"dataframe\">\n",
       "  <thead>\n",
       "    <tr style=\"text-align: right;\">\n",
       "      <th></th>\n",
       "      <th>Outcome</th>\n",
       "      <th>Bias</th>\n",
       "      <th>Std</th>\n",
       "      <th>RMSE</th>\n",
       "      <th>CI Covarage</th>\n",
       "      <th>CI Width</th>\n",
       "      <th>Method</th>\n",
       "    </tr>\n",
       "  </thead>\n",
       "  <tbody>\n",
       "    <tr>\n",
       "      <td>0</td>\n",
       "      <td>First</td>\n",
       "      <td>0.001744</td>\n",
       "      <td>0.101625</td>\n",
       "      <td>0.101304</td>\n",
       "      <td>0.163</td>\n",
       "      <td>0.039650</td>\n",
       "      <td>DR</td>\n",
       "    </tr>\n",
       "    <tr>\n",
       "      <td>1</td>\n",
       "      <td>Second</td>\n",
       "      <td>-0.087401</td>\n",
       "      <td>3.062344</td>\n",
       "      <td>1.232460</td>\n",
       "      <td>0.865</td>\n",
       "      <td>5.379909</td>\n",
       "      <td>DR</td>\n",
       "    </tr>\n",
       "    <tr>\n",
       "      <td>2</td>\n",
       "      <td>Third</td>\n",
       "      <td>0.095117</td>\n",
       "      <td>31.696071</td>\n",
       "      <td>1.766488</td>\n",
       "      <td>0.945</td>\n",
       "      <td>12.062743</td>\n",
       "      <td>DR</td>\n",
       "    </tr>\n",
       "  </tbody>\n",
       "</table>\n",
       "</div>"
      ],
      "text/plain": [
       "  Outcome      Bias        Std      RMSE  CI Covarage   CI Width Method\n",
       "0   First  0.001744   0.101625  0.101304        0.163   0.039650     DR\n",
       "1  Second -0.087401   3.062344  1.232460        0.865   5.379909     DR\n",
       "2   Third  0.095117  31.696071  1.766488        0.945  12.062743     DR"
      ]
     },
     "execution_count": 12,
     "metadata": {},
     "output_type": "execute_result"
    }
   ],
   "source": [
    "dr_sum_df"
   ]
  },
  {
   "cell_type": "code",
   "execution_count": 13,
   "metadata": {},
   "outputs": [
    {
     "data": {
      "text/html": [
       "<div>\n",
       "<style scoped>\n",
       "    .dataframe tbody tr th:only-of-type {\n",
       "        vertical-align: middle;\n",
       "    }\n",
       "\n",
       "    .dataframe tbody tr th {\n",
       "        vertical-align: top;\n",
       "    }\n",
       "\n",
       "    .dataframe thead th {\n",
       "        text-align: right;\n",
       "    }\n",
       "</style>\n",
       "<table border=\"1\" class=\"dataframe\">\n",
       "  <thead>\n",
       "    <tr style=\"text-align: right;\">\n",
       "      <th></th>\n",
       "      <th>Outcome</th>\n",
       "      <th>Bias</th>\n",
       "      <th>Std</th>\n",
       "      <th>RMSE</th>\n",
       "      <th>CI Covarage</th>\n",
       "      <th>CI Width</th>\n",
       "      <th>Method</th>\n",
       "    </tr>\n",
       "  </thead>\n",
       "  <tbody>\n",
       "    <tr>\n",
       "      <td>0</td>\n",
       "      <td>First</td>\n",
       "      <td>0.060054</td>\n",
       "      <td>0.414120</td>\n",
       "      <td>0.405716</td>\n",
       "      <td>0.994</td>\n",
       "      <td>2.268468</td>\n",
       "      <td>M-N-m</td>\n",
       "    </tr>\n",
       "    <tr>\n",
       "      <td>1</td>\n",
       "      <td>Second</td>\n",
       "      <td>-0.005841</td>\n",
       "      <td>1.049262</td>\n",
       "      <td>1.005794</td>\n",
       "      <td>0.989</td>\n",
       "      <td>5.009114</td>\n",
       "      <td>M-N-m</td>\n",
       "    </tr>\n",
       "    <tr>\n",
       "      <td>2</td>\n",
       "      <td>Third</td>\n",
       "      <td>0.088527</td>\n",
       "      <td>1.975121</td>\n",
       "      <td>1.616854</td>\n",
       "      <td>0.974</td>\n",
       "      <td>6.619360</td>\n",
       "      <td>M-N-m</td>\n",
       "    </tr>\n",
       "  </tbody>\n",
       "</table>\n",
       "</div>"
      ],
      "text/plain": [
       "  Outcome      Bias       Std      RMSE  CI Covarage  CI Width Method\n",
       "0   First  0.060054  0.414120  0.405716        0.994  2.268468  M-N-m\n",
       "1  Second -0.005841  1.049262  1.005794        0.989  5.009114  M-N-m\n",
       "2   Third  0.088527  1.975121  1.616854        0.974  6.619360  M-N-m"
      ]
     },
     "execution_count": 13,
     "metadata": {},
     "output_type": "execute_result"
    }
   ],
   "source": [
    "match_mnm_sum_df"
   ]
  },
  {
   "cell_type": "code",
   "execution_count": 14,
   "metadata": {},
   "outputs": [
    {
     "data": {
      "text/html": [
       "<div>\n",
       "<style scoped>\n",
       "    .dataframe tbody tr th:only-of-type {\n",
       "        vertical-align: middle;\n",
       "    }\n",
       "\n",
       "    .dataframe tbody tr th {\n",
       "        vertical-align: top;\n",
       "    }\n",
       "\n",
       "    .dataframe thead th {\n",
       "        text-align: right;\n",
       "    }\n",
       "</style>\n",
       "<table border=\"1\" class=\"dataframe\">\n",
       "  <thead>\n",
       "    <tr style=\"text-align: right;\">\n",
       "      <th></th>\n",
       "      <th>Outcome</th>\n",
       "      <th>Bias</th>\n",
       "      <th>Std</th>\n",
       "      <th>RMSE</th>\n",
       "      <th>CI Covarage</th>\n",
       "      <th>CI Width</th>\n",
       "      <th>Method</th>\n",
       "    </tr>\n",
       "  </thead>\n",
       "  <tbody>\n",
       "    <tr>\n",
       "      <td>0</td>\n",
       "      <td>First</td>\n",
       "      <td>0.000406</td>\n",
       "      <td>0.117138</td>\n",
       "      <td>0.115630</td>\n",
       "      <td>0.956</td>\n",
       "      <td>0.464215</td>\n",
       "      <td>M-C-m</td>\n",
       "    </tr>\n",
       "    <tr>\n",
       "      <td>1</td>\n",
       "      <td>Second</td>\n",
       "      <td>-0.157737</td>\n",
       "      <td>0.903815</td>\n",
       "      <td>0.909211</td>\n",
       "      <td>0.948</td>\n",
       "      <td>3.532099</td>\n",
       "      <td>M-C-m</td>\n",
       "    </tr>\n",
       "    <tr>\n",
       "      <td>2</td>\n",
       "      <td>Third</td>\n",
       "      <td>0.054498</td>\n",
       "      <td>1.741218</td>\n",
       "      <td>1.383094</td>\n",
       "      <td>0.975</td>\n",
       "      <td>5.954523</td>\n",
       "      <td>M-C-m</td>\n",
       "    </tr>\n",
       "  </tbody>\n",
       "</table>\n",
       "</div>"
      ],
      "text/plain": [
       "  Outcome      Bias       Std      RMSE  CI Covarage  CI Width Method\n",
       "0   First  0.000406  0.117138  0.115630        0.956  0.464215  M-C-m\n",
       "1  Second -0.157737  0.903815  0.909211        0.948  3.532099  M-C-m\n",
       "2   Third  0.054498  1.741218  1.383094        0.975  5.954523  M-C-m"
      ]
     },
     "execution_count": 14,
     "metadata": {},
     "output_type": "execute_result"
    }
   ],
   "source": [
    "match_mcm_sum_df"
   ]
  },
  {
   "cell_type": "code",
   "execution_count": null,
   "metadata": {},
   "outputs": [],
   "source": []
  }
 ],
 "metadata": {
  "kernelspec": {
   "display_name": "Python 3",
   "language": "python",
   "name": "python3"
  },
  "language_info": {
   "codemirror_mode": {
    "name": "ipython",
    "version": 3
   },
   "file_extension": ".py",
   "mimetype": "text/x-python",
   "name": "python",
   "nbconvert_exporter": "python",
   "pygments_lexer": "ipython3",
   "version": "3.7.4"
  },
  "toc": {
   "base_numbering": 1,
   "nav_menu": {},
   "number_sections": true,
   "sideBar": true,
   "skip_h1_title": false,
   "title_cell": "Table of Contents",
   "title_sidebar": "Contents",
   "toc_cell": false,
   "toc_position": {},
   "toc_section_display": true,
   "toc_window_display": false
  },
  "varInspector": {
   "cols": {
    "lenName": 16,
    "lenType": 16,
    "lenVar": 40
   },
   "kernels_config": {
    "python": {
     "delete_cmd_postfix": "",
     "delete_cmd_prefix": "del ",
     "library": "var_list.py",
     "varRefreshCmd": "print(var_dic_list())"
    },
    "r": {
     "delete_cmd_postfix": ") ",
     "delete_cmd_prefix": "rm(",
     "library": "var_list.r",
     "varRefreshCmd": "cat(var_dic_list()) "
    }
   },
   "types_to_exclude": [
    "module",
    "function",
    "builtin_function_or_method",
    "instance",
    "_Feature"
   ],
   "window_display": false
  }
 },
 "nbformat": 4,
 "nbformat_minor": 4
}
