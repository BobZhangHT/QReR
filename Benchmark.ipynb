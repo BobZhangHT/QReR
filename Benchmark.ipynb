{
 "cells": [
  {
   "cell_type": "code",
   "execution_count": 1,
   "metadata": {},
   "outputs": [],
   "source": [
    "import numpy as np\n",
    "import pandas as pd\n",
    "import os\n",
    "from tqdm import tqdm"
   ]
  },
  {
   "cell_type": "code",
   "execution_count": 2,
   "metadata": {},
   "outputs": [],
   "source": [
    "import rpy2\n",
    "from rpy2 import robjects as ro\n",
    "from rpy2.robjects import Formula\n",
    "from rpy2.robjects.packages import importr\n",
    "from rpy2.robjects import numpy2ri, pandas2ri"
   ]
  },
  {
   "cell_type": "code",
   "execution_count": 3,
   "metadata": {},
   "outputs": [],
   "source": [
    "numpy2ri.activate()\n",
    "pandas2ri.activate()\n",
    "\n",
    "try:\n",
    "    stats = importr(\"stats\")\n",
    "except:\n",
    "    utils = importr('utils')\n",
    "    utils.install_packages('stats', repos='http://cran.us.r-project.org')\n",
    "    stats = importr(\"stats\")"
   ]
  },
  {
   "cell_type": "code",
   "execution_count": 4,
   "metadata": {},
   "outputs": [],
   "source": [
    "try:\n",
    "    matching = importr(\"Matching\")\n",
    "except:\n",
    "    utils = importr('utils')\n",
    "    utils.install_packages('Matching', repos='http://cran.us.r-project.org')\n",
    "    matching = importr(\"Matching\")"
   ]
  },
  {
   "cell_type": "code",
   "execution_count": 5,
   "metadata": {},
   "outputs": [],
   "source": [
    "def match_wrapper(y,z,X):\n",
    "    kwargs = {'Y':y,\n",
    "          'Tr':z,\n",
    "          'X':X,\n",
    "          'estimand':'ATE',\n",
    "          'M':1}\n",
    "    rr = matching.Match(**kwargs)\n",
    "    tauhat = rr[0]\n",
    "    lb = tauhat - stats.qnorm(0.975)*se\n",
    "    ub = tauhat + stats.qnorm(0.975)*se\n",
    "    return tauhat.item(), lb.item(), ub.item()"
   ]
  },
  {
   "cell_type": "code",
   "execution_count": null,
   "metadata": {},
   "outputs": [],
   "source": [
    "def parallel_unit(i):\n",
    "    # data path\n",
    "    data_path = './save/simu_data/'\n",
    "    \n",
    "    # load the data\n",
    "    data_full_path = data_path + 'd' + str(i) + '.npy'\n",
    "    dat = np.load(data_full_path,allow_pickle=True)\n",
    "\n",
    "    # unzip the data\n",
    "    x = dat.item()['x']\n",
    "    z = dat.item()['z']\n",
    "    y1 = dat.item()['y1']\n",
    "    y2 = dat.item()['y2']\n",
    "    y3 = dat.item()['y3']\n",
    "\n",
    "\n",
    "    save_folder = './save/benchmarks/'+str(i)+'/'\n",
    "\n",
    "    if not os.path.exists(save_folder):\n",
    "        print('Creat the folder.')\n",
    "        os.makedirs(save_folder)\n",
    "\n",
    "    if not os.path.exists(save_folder+'match.csv'):\n",
    "        print('Perform Matching.')\n",
    "        # fit logistic model for propensity scores\n",
    "        columns = ['x'+str(i+1) for i in range(x.shape[1])] + ['z']\n",
    "        formula = columns[-1]+'~'+'+'.join(columns[:-1])\n",
    "\n",
    "        kwargs = {\"formula\": Formula(formula),\n",
    "                  \"family\": stats.binomial,\n",
    "                  \"data\": pd.DataFrame(np.hstack([x, z.reshape(-1,1)]),\n",
    "                                        columns=columns)}\n",
    "\n",
    "        glm_ps = stats.glm(**kwargs)\n",
    "        ps_score = glm_ps[2]\n",
    "\n",
    "        # tau\n",
    "        tau_match_ps = [] \n",
    "        tau_match_x = [] \n",
    "\n",
    "        for y in [y1,y2,y3]:\n",
    "            tau_match_ps.append(match_wrapper(y,z,ps_score))\n",
    "            tau_match_x.append(match_wrapper(y,z,x))\n",
    "\n",
    "        tau_match_ps = np.array(tau_match_ps)\n",
    "        tau_match_x = np.array(tau_match_x)\n",
    "\n",
    "        df_match_ps = pd.DataFrame(tau_match_ps,columns=['tauhat','95CI_lb','95CI_ub'])\n",
    "        df_match_ps['method'] = 'Match-PS'\n",
    "\n",
    "        df_match_x = pd.DataFrame(tau_match_x,columns=['tauhat','95CI_lb','95CI_ub'])\n",
    "        df_match_x['method'] = 'Match-X'\n",
    "\n",
    "        df_match = pd.concat([df_match_ps,df_match_x],axis=0)\n",
    "        df_match.to_csv(save_folder+'match.csv',index=False)\n",
    "\n",
    "    else:\n",
    "        print('Skip! Matching has been performed.')\n",
    "        "
   ]
  },
  {
   "cell_type": "code",
   "execution_count": 6,
   "metadata": {},
   "outputs": [],
   "source": [
    "n_kernel = 20\n",
    "n_data = 1000"
   ]
  },
  {
   "cell_type": "code",
   "execution_count": 7,
   "metadata": {},
   "outputs": [],
   "source": [
    "Parallel(n_jobs=n_kernel)(delayed(parallel_unit)(i=i) for i in tqdm(range(n_data)))"
   ]
  }
 ],
 "metadata": {
  "kernelspec": {
   "display_name": "Python 3",
   "language": "python",
   "name": "python3"
  },
  "language_info": {
   "codemirror_mode": {
    "name": "ipython",
    "version": 3
   },
   "file_extension": ".py",
   "mimetype": "text/x-python",
   "name": "python",
   "nbconvert_exporter": "python",
   "pygments_lexer": "ipython3",
   "version": "3.7.4"
  },
  "toc": {
   "base_numbering": 1,
   "nav_menu": {},
   "number_sections": true,
   "sideBar": true,
   "skip_h1_title": false,
   "title_cell": "Table of Contents",
   "title_sidebar": "Contents",
   "toc_cell": false,
   "toc_position": {},
   "toc_section_display": true,
   "toc_window_display": false
  },
  "varInspector": {
   "cols": {
    "lenName": 16,
    "lenType": 16,
    "lenVar": 40
   },
   "kernels_config": {
    "python": {
     "delete_cmd_postfix": "",
     "delete_cmd_prefix": "del ",
     "library": "var_list.py",
     "varRefreshCmd": "print(var_dic_list())"
    },
    "r": {
     "delete_cmd_postfix": ") ",
     "delete_cmd_prefix": "rm(",
     "library": "var_list.r",
     "varRefreshCmd": "cat(var_dic_list()) "
    }
   },
   "types_to_exclude": [
    "module",
    "function",
    "builtin_function_or_method",
    "instance",
    "_Feature"
   ],
   "window_display": false
  }
 },
 "nbformat": 4,
 "nbformat_minor": 2
}
